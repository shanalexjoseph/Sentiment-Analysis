{
 "cells": [
  {
   "cell_type": "code",
   "execution_count": 4,
   "metadata": {},
   "outputs": [
    {
     "name": "stdout",
     "output_type": "stream",
     "text": [
      "Requirement already satisfied: sklearn in /home/ubuntu/anaconda3/envs/tensorflow_p36/lib/python3.6/site-packages\n",
      "Requirement already satisfied: scikit-learn in /home/ubuntu/anaconda3/envs/tensorflow_p36/lib/python3.6/site-packages (from sklearn)\n",
      "\u001b[33mYou are using pip version 9.0.1, however version 9.0.3 is available.\n",
      "You should consider upgrading via the 'pip install --upgrade pip' command.\u001b[0m\n"
     ]
    }
   ],
   "source": [
    "!pip install sklearn"
   ]
  },
  {
   "cell_type": "code",
   "execution_count": 5,
   "metadata": {
    "colab": {
     "autoexec": {
      "startup": false,
      "wait_interval": 0
     }
    },
    "colab_type": "code",
    "id": "15HyuFD4aTgO"
   },
   "outputs": [
    {
     "name": "stderr",
     "output_type": "stream",
     "text": [
      "/home/ubuntu/anaconda3/envs/tensorflow_p36/lib/python3.6/site-packages/matplotlib/__init__.py:962: UserWarning: Duplicate key in file \"/home/ubuntu/.config/matplotlib/matplotlibrc\", line #2\n",
      "  (fname, cnt))\n",
      "/home/ubuntu/anaconda3/envs/tensorflow_p36/lib/python3.6/site-packages/matplotlib/__init__.py:962: UserWarning: Duplicate key in file \"/home/ubuntu/.config/matplotlib/matplotlibrc\", line #3\n",
      "  (fname, cnt))\n",
      "/home/ubuntu/anaconda3/envs/tensorflow_p36/lib/python3.6/site-packages/h5py/__init__.py:36: FutureWarning: Conversion of the second argument of issubdtype from `float` to `np.floating` is deprecated. In future, it will be treated as `np.float64 == np.dtype(float).type`.\n",
      "  from ._conv import register_converters as _register_converters\n",
      "Using TensorFlow backend.\n",
      "/home/ubuntu/anaconda3/envs/tensorflow_p36/lib/python3.6/site-packages/sklearn/cross_validation.py:41: DeprecationWarning: This module was deprecated in version 0.18 in favor of the model_selection module into which all the refactored classes and functions are moved. Also note that the interface of the new CV iterators are different from that of this module. This module will be removed in 0.20.\n",
      "  \"This module will be removed in 0.20.\", DeprecationWarning)\n"
     ]
    }
   ],
   "source": [
    "import pandas as pd\n",
    "import numpy as np\n",
    "import matplotlib.pyplot as plt\n",
    "\n",
    "import numpy as np\n",
    "\n",
    "\n",
    "from keras.models import Sequential, Model\n",
    "from keras.layers import Dense, Dropout, Flatten, Input, MaxPooling1D, Convolution1D, Embedding\n",
    "from keras.layers.merge import Concatenate\n",
    "from keras.datasets import imdb\n",
    "from keras.preprocessing import sequence\n",
    "from keras.preprocessing.text import Tokenizer\n",
    "from keras.models import Sequential\n",
    "from keras.preprocessing import sequence\n",
    "from keras.models import load_model\n",
    "\n",
    "\n",
    "from sklearn.cross_validation import train_test_split\n",
    "from sklearn.metrics import accuracy_score\n",
    "from sklearn.metrics import classification_report, confusion_matrix\n",
    "from sklearn.linear_model import LinearRegression\n",
    "from sklearn.feature_extraction.text import CountVectorizer\n",
    "from sklearn.pipeline import Pipeline\n",
    "\n",
    "\n",
    "from keras.preprocessing.text import Tokenizer\n",
    "from keras.preprocessing.sequence import pad_sequences\n",
    "from keras.utils import to_categorical\n",
    "from keras.layers import Dense, Input, GlobalMaxPooling1D\n",
    "from keras.layers import Conv1D, MaxPooling1D, Embedding\n",
    "from keras.models import Model\n",
    "from sklearn.preprocessing import Normalizer\n",
    "from sklearn.feature_extraction.text import TfidfVectorizer\n",
    "import pickle\n",
    "from sklearn.linear_model import LogisticRegression\n",
    "\n",
    "\n",
    "from keras.models import Sequential, Model\n",
    "from keras.layers import Dense, Dropout, Flatten, Input, MaxPooling1D, Convolution1D, Embedding\n",
    "from keras.layers.merge import Concatenate\n",
    "from keras.preprocessing import sequence\n",
    "\n",
    "import time\n",
    "import html\n",
    "from nltk.tokenize import WordPunctTokenizer\n",
    "import re\n",
    "\n",
    "np.random.seed(0)\n",
    "\n",
    "%matplotlib inline"
   ]
  },
  {
   "cell_type": "markdown",
   "metadata": {},
   "source": [
    "from keras.preprocessing import sequence\n",
    "Keras has provide very nice text processing functions.\n",
    "\n",
    "Then we can format our text samples and labels into tensors that can be fed into a neural network. To do this, we will rely on Keras utilities keras.preprocessing.text.Tokenizer and keras.preprocessing.sequence.pad_sequences."
   ]
  },
  {
   "cell_type": "code",
   "execution_count": 6,
   "metadata": {
    "colab": {
     "autoexec": {
      "startup": false,
      "wait_interval": 0
     }
    },
    "colab_type": "code",
    "id": "CE1EMXPgaTgW"
   },
   "outputs": [],
   "source": [
    "clean_data = pd.read_csv(\"clean_sentences.csv\")"
   ]
  },
  {
   "cell_type": "code",
   "execution_count": 7,
   "metadata": {
    "colab": {
     "autoexec": {
      "startup": false,
      "wait_interval": 0
     }
    },
    "colab_type": "code",
    "id": "Y6uAzWoBaTgc"
   },
   "outputs": [],
   "source": [
    "df = pd.DataFrame(clean_data)"
   ]
  },
  {
   "cell_type": "code",
   "execution_count": 8,
   "metadata": {
    "colab": {
     "autoexec": {
      "startup": false,
      "wait_interval": 0
     },
     "base_uri": "https://localhost:8080/",
     "height": 34,
     "output_extras": [
      {
       "item_id": 1
      }
     ]
    },
    "colab_type": "code",
    "executionInfo": {
     "elapsed": 241,
     "status": "ok",
     "timestamp": 1521866520799,
     "user": {
      "displayName": "donna alex",
      "photoUrl": "//lh6.googleusercontent.com/-H58kuq1ExZk/AAAAAAAAAAI/AAAAAAAAAzs/5lbOM0-qvzI/s50-c-k-no/photo.jpg",
      "userId": "115248177046208592333"
     },
     "user_tz": 420
    },
    "id": "F8msjw1saTgj",
    "outputId": "0a0eb78a-bfa1-4acb-8c10-4262b87b289a"
   },
   "outputs": [
    {
     "data": {
      "text/plain": [
       "(1600000, 2)"
      ]
     },
     "execution_count": 8,
     "metadata": {},
     "output_type": "execute_result"
    }
   ],
   "source": [
    "df.shape"
   ]
  },
  {
   "cell_type": "code",
   "execution_count": 9,
   "metadata": {
    "colab": {
     "autoexec": {
      "startup": false,
      "wait_interval": 0
     },
     "base_uri": "https://localhost:8080/",
     "height": 34,
     "output_extras": [
      {
       "item_id": 1
      }
     ]
    },
    "colab_type": "code",
    "executionInfo": {
     "elapsed": 252,
     "status": "ok",
     "timestamp": 1521866521505,
     "user": {
      "displayName": "donna alex",
      "photoUrl": "//lh6.googleusercontent.com/-H58kuq1ExZk/AAAAAAAAAAI/AAAAAAAAAzs/5lbOM0-qvzI/s50-c-k-no/photo.jpg",
      "userId": "115248177046208592333"
     },
     "user_tz": 420
    },
    "id": "8CJS94bDaTgx",
    "outputId": "eab176d8-1521-43e2-a7ea-7ecf26a3ec61"
   },
   "outputs": [
    {
     "data": {
      "text/plain": [
       "Index(['Sentences', 'Label'], dtype='object')"
      ]
     },
     "execution_count": 9,
     "metadata": {},
     "output_type": "execute_result"
    }
   ],
   "source": [
    "df.columns"
   ]
  },
  {
   "cell_type": "code",
   "execution_count": 10,
   "metadata": {
    "colab": {
     "autoexec": {
      "startup": false,
      "wait_interval": 0
     },
     "base_uri": "https://localhost:8080/",
     "height": 34,
     "output_extras": [
      {
       "item_id": 1
      }
     ]
    },
    "colab_type": "code",
    "executionInfo": {
     "elapsed": 383,
     "status": "ok",
     "timestamp": 1521866522125,
     "user": {
      "displayName": "donna alex",
      "photoUrl": "//lh6.googleusercontent.com/-H58kuq1ExZk/AAAAAAAAAAI/AAAAAAAAAzs/5lbOM0-qvzI/s50-c-k-no/photo.jpg",
      "userId": "115248177046208592333"
     },
     "user_tz": 420
    },
    "id": "BZ5QPeDkaTg7",
    "outputId": "592823a7-1147-48ff-e285-29818aa5d4e3"
   },
   "outputs": [
    {
     "data": {
      "text/plain": [
       "3373"
      ]
     },
     "execution_count": 10,
     "metadata": {},
     "output_type": "execute_result"
    }
   ],
   "source": [
    "np.sum(df.isnull().any(axis=1))"
   ]
  },
  {
   "cell_type": "code",
   "execution_count": 11,
   "metadata": {
    "colab": {
     "autoexec": {
      "startup": false,
      "wait_interval": 0
     },
     "base_uri": "https://localhost:8080/",
     "height": 204,
     "output_extras": [
      {
       "item_id": 1
      }
     ]
    },
    "colab_type": "code",
    "executionInfo": {
     "elapsed": 387,
     "status": "ok",
     "timestamp": 1521866522768,
     "user": {
      "displayName": "donna alex",
      "photoUrl": "//lh6.googleusercontent.com/-H58kuq1ExZk/AAAAAAAAAAI/AAAAAAAAAzs/5lbOM0-qvzI/s50-c-k-no/photo.jpg",
      "userId": "115248177046208592333"
     },
     "user_tz": 420
    },
    "id": "IT6T8NJpaThD",
    "outputId": "d4d70588-20c3-4ff7-ee44-02e78195bd57"
   },
   "outputs": [
    {
     "data": {
      "text/html": [
       "<div>\n",
       "<style scoped>\n",
       "    .dataframe tbody tr th:only-of-type {\n",
       "        vertical-align: middle;\n",
       "    }\n",
       "\n",
       "    .dataframe tbody tr th {\n",
       "        vertical-align: top;\n",
       "    }\n",
       "\n",
       "    .dataframe thead th {\n",
       "        text-align: right;\n",
       "    }\n",
       "</style>\n",
       "<table border=\"1\" class=\"dataframe\">\n",
       "  <thead>\n",
       "    <tr style=\"text-align: right;\">\n",
       "      <th></th>\n",
       "      <th>Sentences</th>\n",
       "      <th>Label</th>\n",
       "    </tr>\n",
       "  </thead>\n",
       "  <tbody>\n",
       "    <tr>\n",
       "      <th>208</th>\n",
       "      <td>NaN</td>\n",
       "      <td>0</td>\n",
       "    </tr>\n",
       "    <tr>\n",
       "      <th>249</th>\n",
       "      <td>NaN</td>\n",
       "      <td>0</td>\n",
       "    </tr>\n",
       "    <tr>\n",
       "      <th>398</th>\n",
       "      <td>NaN</td>\n",
       "      <td>0</td>\n",
       "    </tr>\n",
       "    <tr>\n",
       "      <th>430</th>\n",
       "      <td>NaN</td>\n",
       "      <td>0</td>\n",
       "    </tr>\n",
       "    <tr>\n",
       "      <th>1011</th>\n",
       "      <td>NaN</td>\n",
       "      <td>0</td>\n",
       "    </tr>\n",
       "  </tbody>\n",
       "</table>\n",
       "</div>"
      ],
      "text/plain": [
       "     Sentences  Label\n",
       "208        NaN      0\n",
       "249        NaN      0\n",
       "398        NaN      0\n",
       "430        NaN      0\n",
       "1011       NaN      0"
      ]
     },
     "execution_count": 11,
     "metadata": {},
     "output_type": "execute_result"
    }
   ],
   "source": [
    "df[df.isnull().any(axis=1)].head()"
   ]
  },
  {
   "cell_type": "code",
   "execution_count": 12,
   "metadata": {
    "colab": {
     "autoexec": {
      "startup": false,
      "wait_interval": 0
     }
    },
    "colab_type": "code",
    "id": "I3aeR4PYaThM"
   },
   "outputs": [],
   "source": [
    "df = df.dropna()"
   ]
  },
  {
   "cell_type": "code",
   "execution_count": 13,
   "metadata": {
    "colab": {
     "autoexec": {
      "startup": false,
      "wait_interval": 0
     },
     "base_uri": "https://localhost:8080/",
     "height": 34,
     "output_extras": [
      {
       "item_id": 1
      }
     ]
    },
    "colab_type": "code",
    "executionInfo": {
     "elapsed": 277,
     "status": "ok",
     "timestamp": 1521866524055,
     "user": {
      "displayName": "donna alex",
      "photoUrl": "//lh6.googleusercontent.com/-H58kuq1ExZk/AAAAAAAAAAI/AAAAAAAAAzs/5lbOM0-qvzI/s50-c-k-no/photo.jpg",
      "userId": "115248177046208592333"
     },
     "user_tz": 420
    },
    "id": "z2IXlh6raThS",
    "outputId": "c512fee0-099f-408a-da9d-f1b9880f5997"
   },
   "outputs": [
    {
     "data": {
      "text/plain": [
       "(1596627, 2)"
      ]
     },
     "execution_count": 13,
     "metadata": {},
     "output_type": "execute_result"
    }
   ],
   "source": [
    "df.shape"
   ]
  },
  {
   "cell_type": "code",
   "execution_count": 14,
   "metadata": {
    "colab": {
     "autoexec": {
      "startup": false,
      "wait_interval": 0
     },
     "base_uri": "https://localhost:8080/",
     "height": 34,
     "output_extras": [
      {
       "item_id": 1
      }
     ]
    },
    "colab_type": "code",
    "executionInfo": {
     "elapsed": 403,
     "status": "ok",
     "timestamp": 1521866524697,
     "user": {
      "displayName": "donna alex",
      "photoUrl": "//lh6.googleusercontent.com/-H58kuq1ExZk/AAAAAAAAAAI/AAAAAAAAAzs/5lbOM0-qvzI/s50-c-k-no/photo.jpg",
      "userId": "115248177046208592333"
     },
     "user_tz": 420
    },
    "id": "Uop9RhMBaThd",
    "outputId": "86e80b72-6963-484d-c11f-d1dd8b7c4b2e"
   },
   "outputs": [
    {
     "data": {
      "text/plain": [
       "0"
      ]
     },
     "execution_count": 14,
     "metadata": {},
     "output_type": "execute_result"
    }
   ],
   "source": [
    "np.sum(df.isnull().any(axis=1))"
   ]
  },
  {
   "cell_type": "code",
   "execution_count": 15,
   "metadata": {
    "colab": {
     "autoexec": {
      "startup": false,
      "wait_interval": 0
     },
     "base_uri": "https://localhost:8080/",
     "height": 68,
     "output_extras": [
      {
       "item_id": 1
      }
     ]
    },
    "colab_type": "code",
    "executionInfo": {
     "elapsed": 268,
     "status": "ok",
     "timestamp": 1521866525212,
     "user": {
      "displayName": "donna alex",
      "photoUrl": "//lh6.googleusercontent.com/-H58kuq1ExZk/AAAAAAAAAAI/AAAAAAAAAzs/5lbOM0-qvzI/s50-c-k-no/photo.jpg",
      "userId": "115248177046208592333"
     },
     "user_tz": 420
    },
    "id": "37dot_gfaTho",
    "outputId": "ea9232e1-8be2-4ea4-f94b-8f7e6aee8de2"
   },
   "outputs": [
    {
     "data": {
      "text/plain": [
       "0    798467\n",
       "1    798160\n",
       "Name: Label, dtype: int64"
      ]
     },
     "execution_count": 15,
     "metadata": {},
     "output_type": "execute_result"
    }
   ],
   "source": [
    "df[\"Label\"].value_counts()"
   ]
  },
  {
   "cell_type": "code",
   "execution_count": 16,
   "metadata": {
    "colab": {
     "autoexec": {
      "startup": false,
      "wait_interval": 0
     },
     "base_uri": "https://localhost:8080/",
     "height": 204,
     "output_extras": [
      {
       "item_id": 1
      }
     ]
    },
    "colab_type": "code",
    "executionInfo": {
     "elapsed": 266,
     "status": "ok",
     "timestamp": 1521866525743,
     "user": {
      "displayName": "donna alex",
      "photoUrl": "//lh6.googleusercontent.com/-H58kuq1ExZk/AAAAAAAAAAI/AAAAAAAAAzs/5lbOM0-qvzI/s50-c-k-no/photo.jpg",
      "userId": "115248177046208592333"
     },
     "user_tz": 420
    },
    "id": "sWfnFEoOaThz",
    "outputId": "2b468d2f-1dca-4a48-ed9a-592b2c599f38"
   },
   "outputs": [
    {
     "data": {
      "text/html": [
       "<div>\n",
       "<style scoped>\n",
       "    .dataframe tbody tr th:only-of-type {\n",
       "        vertical-align: middle;\n",
       "    }\n",
       "\n",
       "    .dataframe tbody tr th {\n",
       "        vertical-align: top;\n",
       "    }\n",
       "\n",
       "    .dataframe thead th {\n",
       "        text-align: right;\n",
       "    }\n",
       "</style>\n",
       "<table border=\"1\" class=\"dataframe\">\n",
       "  <thead>\n",
       "    <tr style=\"text-align: right;\">\n",
       "      <th></th>\n",
       "      <th>Sentences</th>\n",
       "      <th>Label</th>\n",
       "    </tr>\n",
       "  </thead>\n",
       "  <tbody>\n",
       "    <tr>\n",
       "      <th>0</th>\n",
       "      <td>awww that bummer you shoulda got david carr of...</td>\n",
       "      <td>0</td>\n",
       "    </tr>\n",
       "    <tr>\n",
       "      <th>1</th>\n",
       "      <td>is upset that he can not update his facebook b...</td>\n",
       "      <td>0</td>\n",
       "    </tr>\n",
       "    <tr>\n",
       "      <th>2</th>\n",
       "      <td>dived many times for the ball managed to save ...</td>\n",
       "      <td>0</td>\n",
       "    </tr>\n",
       "    <tr>\n",
       "      <th>3</th>\n",
       "      <td>my whole body feels itchy and like its on fire</td>\n",
       "      <td>0</td>\n",
       "    </tr>\n",
       "    <tr>\n",
       "      <th>4</th>\n",
       "      <td>no it not behaving at all mad why am here beca...</td>\n",
       "      <td>0</td>\n",
       "    </tr>\n",
       "  </tbody>\n",
       "</table>\n",
       "</div>"
      ],
      "text/plain": [
       "                                           Sentences  Label\n",
       "0  awww that bummer you shoulda got david carr of...      0\n",
       "1  is upset that he can not update his facebook b...      0\n",
       "2  dived many times for the ball managed to save ...      0\n",
       "3     my whole body feels itchy and like its on fire      0\n",
       "4  no it not behaving at all mad why am here beca...      0"
      ]
     },
     "execution_count": 16,
     "metadata": {},
     "output_type": "execute_result"
    }
   ],
   "source": [
    "df.head()"
   ]
  },
  {
   "cell_type": "code",
   "execution_count": 17,
   "metadata": {},
   "outputs": [
    {
     "data": {
      "text/plain": [
       "'is upset that he can not update his facebook by texting it and might cry as result school today also blah'"
      ]
     },
     "execution_count": 17,
     "metadata": {},
     "output_type": "execute_result"
    }
   ],
   "source": [
    "df[\"Sentences\"][1]"
   ]
  },
  {
   "cell_type": "code",
   "execution_count": 18,
   "metadata": {
    "colab": {
     "autoexec": {
      "startup": false,
      "wait_interval": 0
     },
     "base_uri": "https://localhost:8080/",
     "height": 68,
     "output_extras": [
      {
       "item_id": 1
      }
     ]
    },
    "colab_type": "code",
    "executionInfo": {
     "elapsed": 258,
     "status": "ok",
     "timestamp": 1521866526300,
     "user": {
      "displayName": "donna alex",
      "photoUrl": "//lh6.googleusercontent.com/-H58kuq1ExZk/AAAAAAAAAAI/AAAAAAAAAzs/5lbOM0-qvzI/s50-c-k-no/photo.jpg",
      "userId": "115248177046208592333"
     },
     "user_tz": 420
    },
    "id": "FpDCsNViaTh9",
    "outputId": "7e578d6e-7e6a-4acd-9d91-988837ded443"
   },
   "outputs": [
    {
     "data": {
      "text/plain": [
       "0    798467\n",
       "1    798160\n",
       "Name: Label, dtype: int64"
      ]
     },
     "execution_count": 18,
     "metadata": {},
     "output_type": "execute_result"
    }
   ],
   "source": [
    "df[\"Label\"].value_counts()"
   ]
  },
  {
   "cell_type": "code",
   "execution_count": 19,
   "metadata": {
    "colab": {
     "autoexec": {
      "startup": false,
      "wait_interval": 0
     }
    },
    "colab_type": "code",
    "id": "_TT_BCjeaTiG"
   },
   "outputs": [],
   "source": [
    "X = df[\"Sentences\"]\n",
    "y = df[\"Label\"]"
   ]
  },
  {
   "cell_type": "code",
   "execution_count": 20,
   "metadata": {
    "colab": {
     "autoexec": {
      "startup": false,
      "wait_interval": 0
     },
     "base_uri": "https://localhost:8080/",
     "height": 68,
     "output_extras": [
      {
       "item_id": 1
      }
     ]
    },
    "colab_type": "code",
    "executionInfo": {
     "elapsed": 271,
     "status": "ok",
     "timestamp": 1521866528902,
     "user": {
      "displayName": "donna alex",
      "photoUrl": "//lh6.googleusercontent.com/-H58kuq1ExZk/AAAAAAAAAAI/AAAAAAAAAzs/5lbOM0-qvzI/s50-c-k-no/photo.jpg",
      "userId": "115248177046208592333"
     },
     "user_tz": 420
    },
    "id": "2LpCZMiUaTiW",
    "outputId": "45b49fa9-dd70-461f-819f-ab90b0b81d22"
   },
   "outputs": [
    {
     "name": "stdout",
     "output_type": "stream",
     "text": [
      "Training data: \n",
      "(1596627,)\n",
      "(1596627,)\n"
     ]
    }
   ],
   "source": [
    "print(\"Training data: \")\n",
    "print(X.shape)\n",
    "print(y.shape)"
   ]
  },
  {
   "cell_type": "code",
   "execution_count": 21,
   "metadata": {
    "colab": {
     "autoexec": {
      "startup": false,
      "wait_interval": 0
     },
     "base_uri": "https://localhost:8080/",
     "height": 51,
     "output_extras": [
      {
       "item_id": 1
      }
     ]
    },
    "colab_type": "code",
    "executionInfo": {
     "elapsed": 342,
     "status": "ok",
     "timestamp": 1521866529472,
     "user": {
      "displayName": "donna alex",
      "photoUrl": "//lh6.googleusercontent.com/-H58kuq1ExZk/AAAAAAAAAAI/AAAAAAAAAzs/5lbOM0-qvzI/s50-c-k-no/photo.jpg",
      "userId": "115248177046208592333"
     },
     "user_tz": 420
    },
    "id": "PylbAcp1aTih",
    "outputId": "b91255a5-dad7-491f-95c8-4e6c09ead763"
   },
   "outputs": [
    {
     "name": "stdout",
     "output_type": "stream",
     "text": [
      "no. of classes :\n",
      "[0 1]\n"
     ]
    }
   ],
   "source": [
    "print(\"no. of classes :\")\n",
    "print(np.unique(y))"
   ]
  },
  {
   "cell_type": "code",
   "execution_count": 22,
   "metadata": {
    "colab": {
     "autoexec": {
      "startup": false,
      "wait_interval": 0
     },
     "base_uri": "https://localhost:8080/",
     "height": 51,
     "output_extras": [
      {
       "item_id": 2
      }
     ]
    },
    "colab_type": "code",
    "executionInfo": {
     "elapsed": 11256,
     "status": "ok",
     "timestamp": 1521866540970,
     "user": {
      "displayName": "donna alex",
      "photoUrl": "//lh6.googleusercontent.com/-H58kuq1ExZk/AAAAAAAAAAI/AAAAAAAAAzs/5lbOM0-qvzI/s50-c-k-no/photo.jpg",
      "userId": "115248177046208592333"
     },
     "user_tz": 420
    },
    "id": "MUnfeeZUaTiq",
    "outputId": "aead7466-d8ef-445c-aa4f-bd3e24921648"
   },
   "outputs": [
    {
     "name": "stdout",
     "output_type": "stream",
     "text": [
      "Number of words: \n",
      "1519745\n"
     ]
    }
   ],
   "source": [
    "# Summarize number of words\n",
    "print(\"Number of words: \")\n",
    "print(len(np.unique(np.hstack(X))))"
   ]
  },
  {
   "cell_type": "code",
   "execution_count": 23,
   "metadata": {
    "colab": {
     "autoexec": {
      "startup": false,
      "wait_interval": 0
     },
     "base_uri": "https://localhost:8080/",
     "height": 299,
     "output_extras": [
      {
       "item_id": 2
      },
      {
       "item_id": 3
      }
     ]
    },
    "colab_type": "code",
    "executionInfo": {
     "elapsed": 1061,
     "status": "ok",
     "timestamp": 1521866542078,
     "user": {
      "displayName": "donna alex",
      "photoUrl": "//lh6.googleusercontent.com/-H58kuq1ExZk/AAAAAAAAAAI/AAAAAAAAAzs/5lbOM0-qvzI/s50-c-k-no/photo.jpg",
      "userId": "115248177046208592333"
     },
     "user_tz": 420
    },
    "id": "NgIdslQNaTiz",
    "outputId": "635d0735-9024-4ec7-ebe1-5c7c5f3ce4de"
   },
   "outputs": [
    {
     "name": "stdout",
     "output_type": "stream",
     "text": [
      "Sentence length: \n",
      "Mean 60.23 words (32.842545)\n"
     ]
    },
    {
     "data": {
      "image/png": "[encoded data removed]",
      "text/plain": [
       "<matplotlib.figure.Figure at 0x7ff111014518>"
      ]
     },
     "metadata": {},
     "output_type": "display_data"
    }
   ],
   "source": [
    "# Summarize sentence length\n",
    "print(\"Sentence length: \")\n",
    "result = [len(x) for x in X]\n",
    "print(\"Mean %.2f words (%f)\" % (np.mean(result), np.std(result)))\n",
    "# plot review length\n",
    "plt.boxplot(result)\n",
    "plt.show()"
   ]
  },
  {
   "cell_type": "code",
   "execution_count": 24,
   "metadata": {},
   "outputs": [],
   "source": [
    "df = df.dropna()"
   ]
  },
  {
   "cell_type": "code",
   "execution_count": 25,
   "metadata": {},
   "outputs": [],
   "source": [
    "x = df[\"Sentences\"]\n",
    "y = df[\"Label\"]"
   ]
  },
  {
   "cell_type": "code",
   "execution_count": 26,
   "metadata": {},
   "outputs": [],
   "source": [
    "x_train, x_validation_and_test, y_train, y_validation_and_test = train_test_split(x, y, test_size=.02, random_state=42)\n",
    "x_validation, x_test, y_validation, y_test = train_test_split(x_validation_and_test, y_validation_and_test, test_size=.5, random_state=42)"
   ]
  },
  {
   "cell_type": "code",
   "execution_count": 27,
   "metadata": {},
   "outputs": [
    {
     "data": {
      "text/plain": [
       "(1564694,)"
      ]
     },
     "execution_count": 27,
     "metadata": {},
     "output_type": "execute_result"
    }
   ],
   "source": [
    "x_train.shape"
   ]
  },
  {
   "cell_type": "code",
   "execution_count": 28,
   "metadata": {},
   "outputs": [
    {
     "data": {
      "text/plain": [
       "31933"
      ]
     },
     "execution_count": 28,
     "metadata": {},
     "output_type": "execute_result"
    }
   ],
   "source": [
    "X.shape[0] - x_train.shape[0]"
   ]
  },
  {
   "cell_type": "code",
   "execution_count": 29,
   "metadata": {},
   "outputs": [
    {
     "data": {
      "text/plain": [
       "(31933,)"
      ]
     },
     "execution_count": 29,
     "metadata": {},
     "output_type": "execute_result"
    }
   ],
   "source": [
    "x_validation_and_test.shape"
   ]
  },
  {
   "cell_type": "code",
   "execution_count": 30,
   "metadata": {},
   "outputs": [
    {
     "data": {
      "text/plain": [
       "(15966,)"
      ]
     },
     "execution_count": 30,
     "metadata": {},
     "output_type": "execute_result"
    }
   ],
   "source": [
    "x_validation.shape"
   ]
  },
  {
   "cell_type": "code",
   "execution_count": 31,
   "metadata": {},
   "outputs": [
    {
     "data": {
      "text/plain": [
       "(15967,)"
      ]
     },
     "execution_count": 31,
     "metadata": {},
     "output_type": "execute_result"
    }
   ],
   "source": [
    "x_test.shape"
   ]
  },
  {
   "cell_type": "code",
   "execution_count": 32,
   "metadata": {},
   "outputs": [
    {
     "data": {
      "text/plain": [
       "TfidfVectorizer(analyzer='word', binary=False, decode_error='strict',\n",
       "        dtype=<class 'numpy.int64'>, encoding='utf-8', input='content',\n",
       "        lowercase=True, max_df=1.0, max_features=100000, min_df=1,\n",
       "        ngram_range=(1, 3), norm='l2', preprocessor=None, smooth_idf=True,\n",
       "        stop_words=None, strip_accents=None, sublinear_tf=False,\n",
       "        token_pattern='(?u)\\\\b\\\\w\\\\w+\\\\b', tokenizer=None, use_idf=True,\n",
       "        vocabulary=None)"
      ]
     },
     "execution_count": 32,
     "metadata": {},
     "output_type": "execute_result"
    }
   ],
   "source": [
    "tvec1 = TfidfVectorizer(max_features=100000,ngram_range=(1, 3))\n",
    "tvec1.fit(x_train)"
   ]
  },
  {
   "cell_type": "code",
   "execution_count": 33,
   "metadata": {},
   "outputs": [],
   "source": [
    "# saving the TfidfVectorizer\n",
    "with open(\"tfidf_result_3.pkl\", 'wb') as handle:\n",
    "                     pickle.dump(tvec1, handle)\n"
   ]
  },
  {
   "cell_type": "code",
   "execution_count": 34,
   "metadata": {},
   "outputs": [],
   "source": [
    "# feature_names = tfidf.get_feature_names()\n",
    "# for col in response.nonzero()[1]:\n",
    "#     print feature_names[col], ' - ', response[0, col]"
   ]
  },
  {
   "cell_type": "code",
   "execution_count": 35,
   "metadata": {},
   "outputs": [],
   "source": [
    "x_train_tfidf = tvec1.transform(x_train)"
   ]
  },
  {
   "cell_type": "code",
   "execution_count": 36,
   "metadata": {},
   "outputs": [
    {
     "data": {
      "text/plain": [
       "<1564694x100000 sparse matrix of type '<class 'numpy.float64'>'\n",
       "\twith 29876579 stored elements in Compressed Sparse Row format>"
      ]
     },
     "execution_count": 36,
     "metadata": {},
     "output_type": "execute_result"
    }
   ],
   "source": [
    "x_train_tfidf"
   ]
  },
  {
   "cell_type": "code",
   "execution_count": 37,
   "metadata": {},
   "outputs": [],
   "source": [
    "x_validation_tfidf = tvec1.transform(x_validation).toarray()\n"
   ]
  },
  {
   "cell_type": "code",
   "execution_count": 38,
   "metadata": {},
   "outputs": [
    {
     "data": {
      "text/plain": [
       "array([[0., 0., 0., ..., 0., 0., 0.],\n",
       "       [0., 0., 0., ..., 0., 0., 0.],\n",
       "       [0., 0., 0., ..., 0., 0., 0.],\n",
       "       ...,\n",
       "       [0., 0., 0., ..., 0., 0., 0.],\n",
       "       [0., 0., 0., ..., 0., 0., 0.],\n",
       "       [0., 0., 0., ..., 0., 0., 0.]])"
      ]
     },
     "execution_count": 38,
     "metadata": {},
     "output_type": "execute_result"
    }
   ],
   "source": [
    "x_validation_tfidf"
   ]
  },
  {
   "cell_type": "code",
   "execution_count": 39,
   "metadata": {},
   "outputs": [
    {
     "data": {
      "text/plain": [
       "LogisticRegression(C=1.0, class_weight=None, dual=False, fit_intercept=True,\n",
       "          intercept_scaling=1, max_iter=100, multi_class='ovr', n_jobs=1,\n",
       "          penalty='l2', random_state=None, solver='liblinear', tol=0.0001,\n",
       "          verbose=0, warm_start=False)"
      ]
     },
     "execution_count": 39,
     "metadata": {},
     "output_type": "execute_result"
    }
   ],
   "source": [
    "clf = LogisticRegression()\n",
    "clf.fit(x_train_tfidf, y_train)"
   ]
  },
  {
   "cell_type": "code",
   "execution_count": 40,
   "metadata": {},
   "outputs": [
    {
     "data": {
      "text/plain": [
       "0.8419857173351467"
      ]
     },
     "execution_count": 40,
     "metadata": {},
     "output_type": "execute_result"
    }
   ],
   "source": [
    "clf.score(x_train_tfidf, y_train)"
   ]
  },
  {
   "cell_type": "code",
   "execution_count": 41,
   "metadata": {},
   "outputs": [
    {
     "data": {
      "text/plain": [
       "0.8207440811724915"
      ]
     },
     "execution_count": 41,
     "metadata": {},
     "output_type": "execute_result"
    }
   ],
   "source": [
    "clf.score(x_validation_tfidf, y_validation)"
   ]
  },
  {
   "cell_type": "code",
   "execution_count": 42,
   "metadata": {},
   "outputs": [],
   "source": [
    "norm = Normalizer().fit(x_train_tfidf)\n",
    "x_train_tfidf_norm = norm.transform(x_train_tfidf)\n",
    "x_validation_tfidf_norm = norm.transform(x_validation_tfidf)"
   ]
  },
  {
   "cell_type": "code",
   "execution_count": 43,
   "metadata": {},
   "outputs": [],
   "source": [
    "# evertime you call shuffle it will shuffle in same fashion\n",
    "np.random.seed(32)"
   ]
  },
  {
   "cell_type": "code",
   "execution_count": 45,
   "metadata": {},
   "outputs": [],
   "source": [
    "# between epochs if it see the same sentence it will learn the order of the sentence also \n",
    "# 48896.6875 -> counter\n",
    "# Generatir : 32 * 1000000 \n",
    "#     random shuffle: it does not learn the order of the sentences \n",
    "#         cause for every 48496 the epoch change and then shufflr happens\n",
    "#         one epoch have 32 sentences each for counter 1.... 48896"
   ]
  },
  {
   "cell_type": "code",
   "execution_count": 46,
   "metadata": {},
   "outputs": [],
   "source": [
    "\n",
    "def batch_generator(X_data, y_data, batch_size):\n",
    "    samples_per_epoch = X_data.shape[0]\n",
    "    number_of_batches = samples_per_epoch/batch_size\n",
    "    counter=0\n",
    "    index = np.arange(np.shape(y_data)[0])\n",
    "    np.random.shuffle(index)\n",
    "    while 1:\n",
    "        index_batch = index[batch_size*counter:batch_size*(counter+1)]\n",
    "        X_batch = X_data[index_batch,:].toarray()\n",
    "        y_batch = y_data[y_data.index[index_batch]]\n",
    "        counter += 1\n",
    "        yield X_batch,y_batch\n",
    "        if (counter > number_of_batches):\n",
    "            np.random.shuffle(index)\n",
    "            counter=0"
   ]
  },
  {
   "cell_type": "code",
   "execution_count": 47,
   "metadata": {},
   "outputs": [
    {
     "data": {
      "text/plain": [
       "1564694"
      ]
     },
     "execution_count": 47,
     "metadata": {},
     "output_type": "execute_result"
    }
   ],
   "source": [
    "x_train_tfidf.shape[0]"
   ]
  },
  {
   "cell_type": "code",
   "execution_count": 48,
   "metadata": {},
   "outputs": [
    {
     "data": {
      "text/plain": [
       "48896.6875"
      ]
     },
     "execution_count": 48,
     "metadata": {},
     "output_type": "execute_result"
    }
   ],
   "source": [
    "1564694/32"
   ]
  },
  {
   "cell_type": "code",
   "execution_count": 49,
   "metadata": {},
   "outputs": [
    {
     "data": {
      "text/plain": [
       "array([      0,       1,       2, ..., 1564691, 1564692, 1564693])"
      ]
     },
     "execution_count": 49,
     "metadata": {},
     "output_type": "execute_result"
    }
   ],
   "source": [
    "np.arange(np.shape(y_train)[0])"
   ]
  },
  {
   "cell_type": "code",
   "execution_count": 50,
   "metadata": {},
   "outputs": [
    {
     "data": {
      "text/plain": [
       "scipy.sparse.csr.csr_matrix"
      ]
     },
     "execution_count": 50,
     "metadata": {},
     "output_type": "execute_result"
    }
   ],
   "source": [
    "type(x_train_tfidf)"
   ]
  },
  {
   "cell_type": "markdown",
   "metadata": {},
   "source": [
    "## Tetsing model accuracy and validation loss"
   ]
  },
  {
   "cell_type": "code",
   "execution_count": 41,
   "metadata": {},
   "outputs": [],
   "source": [
    "# %%time\n",
    "# # custom_adam = keras.optimizers.Adam(lr=0.001, beta_1=0.9, beta_2=0.999, epsilon=1e-8)\n",
    "\n",
    "# from keras import optimizers\n",
    "\n",
    "# custom_adam = optimizers.Adam(lr=0.001, beta_1=0.9, beta_2=0.999, epsilon=1e-8)\n",
    "# model = Sequential()\n",
    "# model.add(Dense(64, activation='relu', input_dim=100000))\n",
    "# model.add(Dense(1, activation='sigmoid'))\n",
    "# model.compile(optimizer='adam',\n",
    "#               loss='binary_crossentropy',\n",
    "#               metrics=['accuracy'])\n",
    "\n",
    "# history = model.fit_generator(generator=batch_generator(x_train_tfidf, y_train, 32),\n",
    "#                     epochs=5, validation_data=(x_validation_tfidf, y_validation),\n",
    "#                     steps_per_epoch=x_train_tfidf.shape[0]/32)"
   ]
  },
  {
   "cell_type": "code",
   "execution_count": 42,
   "metadata": {},
   "outputs": [],
   "source": [
    "# %%time\n",
    "# from keras import optimizers\n",
    "# custom_adam = optimizers.Adam(lr=0.0005, beta_1=0.9, beta_2=0.999, epsilon=1e-8)\n",
    "# model = Sequential()\n",
    "# model.add(Dense(128, activation='relu', input_dim=100000))\n",
    "# model.add(Dropout(0.2))\n",
    "# model.add(Dense(1, activation='sigmoid'))\n",
    "# model.compile(optimizer='adam',\n",
    "#               loss='binary_crossentropy',\n",
    "#               metrics=['accuracy'])\n",
    "\n",
    "# history = model.fit_generator(generator=batch_generator(x_train_tfidf, y_train, 32),\n",
    "#                     epochs=2, validation_data=(x_validation_tfidf, y_validation),\n",
    "#                     steps_per_epoch=x_train_tfidf.shape[0]/32)\n",
    "\n",
    "# Epoch 1/2\n",
    "# 48897/48896 [==============================] - 1222s 25ms/step - loss: 0.4094 - acc: 0.8139 - val_loss: 0.3901 - val_acc: 0.8264\n",
    "# Epoch 2/2\n",
    "# 48897/48896 [==============================] - 1220s 25ms/step - loss: 0.3753 - acc: 0.8341 - val_loss: 0.3909 - val_acc: 0.8281\n",
    "# CPU times: user 45min 41s, sys: 9min 53s, total: 55min 34s\n",
    "# Wall time: 40min 43s"
   ]
  },
  {
   "cell_type": "code",
   "execution_count": 44,
   "metadata": {},
   "outputs": [],
   "source": [
    "# %%time\n",
    "# model_s = Sequential()\n",
    "# model_s.add(Dense(128, activation='relu', input_dim=100000))\n",
    "# model_s.add(Dense(1, activation='sigmoid'))\n",
    "# model_s.compile(optimizer='adam',\n",
    "#               loss='binary_crossentropy',\n",
    "#               metrics=['accuracy'])\n",
    "\n",
    "# history_s = model_s.fit_generator(generator=batch_generator(x_train_tfidf, y_train, 32),\n",
    "#                     epochs=3, validation_data=(x_validation_tfidf, y_validation),\n",
    "#                     steps_per_epoch=x_train_tfidf.shape[0]/32)\n",
    "\n",
    "\n",
    "# Epoch 1/3\n",
    "# 48897/48896 [==============================] - 1210s 25ms/step - loss: 0.4085 - acc: 0.8138 - val_loss: 0.3882 - val_acc: 0.8284\n",
    "# Epoch 2/3\n",
    "# 48897/48896 [==============================] - 1209s 25ms/step - loss: 0.3716 - acc: 0.8356 - val_loss: 0.3882 - val_acc: 0.8269\n",
    "# Epoch 3/3\n",
    "# 48897/48896 [==============================] - 1209s 25ms/step - loss: 0.3601 - acc: 0.8427 - val_loss: 0.3940 - val_acc: 0.8271\n",
    "# CPU times: user 1h 7min 49s, sys: 14min 27s, total: 1h 22min 17s\n",
    "# Wall time: 1h 29s"
   ]
  },
  {
   "cell_type": "code",
   "execution_count": 45,
   "metadata": {},
   "outputs": [],
   "source": [
    "# %%time\n",
    "# model_s = Sequential()\n",
    "# model_s.add(Dense(150, activation='relu', input_dim=100000))\n",
    "# model_s.add(Dense(62, activation='relu'))\n",
    "# model_s.add(Dense(1, activation='sigmoid'))\n",
    "# model_s.compile(optimizer='adam',\n",
    "#               loss='binary_crossentropy',\n",
    "#               metrics=['accuracy'])\n",
    "\n",
    "# history_s = model_s.fit_generator(generator=batch_generator(x_train_tfidf, y_train, 32),\n",
    "#                     epochs=3, validation_data=(x_validation_tfidf, y_validation),\n",
    "#                     steps_per_epoch=x_train_tfidf.shape[0]/32)\n",
    "\n",
    "# Epoch 1/3\n",
    "# 48897/48896 [==============================] - 1385s 28ms/step - loss: 0.4079 - acc: 0.8143 - val_loss: 0.3879 - val_acc: 0.8278\n",
    "# Epoch 2/3\n",
    "# 48897/48896 [==============================] - 1376s 28ms/step - loss: 0.3590 - acc: 0.8434 - val_loss: 0.3867 - val_acc: 0.8275\n",
    "# Epoch 3/3\n",
    "# 48897/48896 [==============================] - 1376s 28ms/step - loss: 0.3121 - acc: 0.8723 - val_loss: 0.4090 - val_acc: 0.8240\n",
    "# CPU times: user 1h 13min 56s, sys: 16min 40s, total: 1h 30min 37s\n",
    "# Wall time: 1h 8min 58s"
   ]
  },
  {
   "cell_type": "code",
   "execution_count": 46,
   "metadata": {},
   "outputs": [],
   "source": [
    "# %%time\n",
    "# model = Sequential()\n",
    "# model.add(Dense(250, activation='relu', input_dim=100000))\n",
    "# model.add(Dense(12, activation='relu'))\n",
    "# model.add(Dense(1, activation='sigmoid'))\n",
    "# model.compile(optimizer='adam',\n",
    "#               loss='binary_crossentropy',\n",
    "#               metrics=['accuracy'])\n",
    "\n",
    "# history = model.fit_generator(generator=batch_generator(x_train_tfidf, y_train, 32),\n",
    "#                     epochs=3, validation_data=(x_validation_tfidf, y_validation),\n",
    "#                     steps_per_epoch=x_train_tfidf.shape[0]/32)\n",
    "\n",
    "# Epoch 1/3\n",
    "# 48897/48896 [==============================] - 2080s 43ms/step - loss: 0.4084 - acc: 0.8137 - val_loss: 0.3965 - val_acc: 0.8199\n",
    "# Epoch 2/3\n",
    "# 48897/48896 [==============================] - 2077s 42ms/step - loss: 0.3586 - acc: 0.8445 - val_loss: 0.4009 - val_acc: 0.8212\n",
    "# Epoch 3/3\n",
    "#  1178/48896 [..............................] - ETA: 33:39 - loss: 0.3000 - acc: 0.8808"
   ]
  },
  {
   "cell_type": "code",
   "execution_count": 48,
   "metadata": {},
   "outputs": [],
   "source": [
    "# %%time\n",
    "# from keras import optimizers\n",
    "# custom_adam = optimizers.Adam(lr=0.00001, beta_1=0.9, beta_2=0.999, epsilon=1e-8)\n",
    "# model = Sequential()\n",
    "# model.add(Dense(200, activation='relu', input_dim=100000))\n",
    "# model.add(Dense(100, activation='relu'))\n",
    "# model.add(Dropout(0.5))\n",
    "# model.add(Dense(50, activation='relu'))\n",
    "# model.add(Dense(10, activation='relu'))\n",
    "# model.add(Dense(1, activation='sigmoid'))\n",
    "# model.compile(optimizer='adam',\n",
    "#               loss='binary_crossentropy',\n",
    "#               metrics=['accuracy'])\n",
    "\n",
    "# history = model.fit_generator(generator=batch_generator(x_train_tfidf, y_train, 32),\n",
    "#                     epochs=5, validation_data=(x_validation_tfidf, y_validation),\n",
    "#                     steps_per_epoch=x_train_tfidf.shape[0]/32)\n",
    "\n",
    "\n",
    "# Epoch 1/5\n",
    "# 48897/48896 [==============================] - 1711s 35ms/step - loss: 0.4119 - acc: 0.8129 - val_loss: 0.4114 - val_acc: 0.8177\n",
    "# Epoch 2/5\n",
    "# 48897/48896 [==============================] - 1707s 35ms/step - loss: 0.3655 - acc: 0.8405 - val_loss: 0.3968 - val_acc: 0.8208\n",
    "# Epoch 3/5\n",
    "# 48897/48896 [==============================] - 1707s 35ms/step - loss: 0.3306 - acc: 0.8636 - val_loss: 0.4019 - val_acc: 0.8187\n",
    "# Epoch 4/5\n",
    "# 48897/48896 [==============================] - 1717s 35ms/step - loss: 0.2878 - acc: 0.8891 - val_loss: 0.4182 - val_acc: 0.8142"
   ]
  },
  {
   "cell_type": "code",
   "execution_count": 1,
   "metadata": {},
   "outputs": [],
   "source": [
    "# %%time\n",
    "# model = Sequential()\n",
    "# model.add(Dense(200, activation='relu', input_dim=100000))\n",
    "# model.add(Dense(100, activation='relu'))\n",
    "# model.add(Dropout(0.5))\n",
    "# model.add(Dense(50, activation='relu'))\n",
    "# model.add(Dense(10, activation='relu'))\n",
    "# model.add(Dense(1, activation='sigmoid'))\n",
    "# model.compile(optimizer='adam',\n",
    "#               loss='binary_crossentropy',\n",
    "#               metrics=['accuracy'])\n",
    "\n",
    "# history = model.fit_generator(generator=batch_generator(x_train_tfidf, y_train, 32),\n",
    "#                     epochs=3, validation_data=(x_validation_tfidf, y_validation),\n",
    "#                     steps_per_epoch=x_train_tfidf.shape[0]/32)\n",
    "\n",
    "# Epoch 1/3\n",
    "# 48897/48896 [==============================] - 1715s 35ms/step - loss: 0.4117 - acc: 0.8128 - val_loss: 0.4071 - val_acc: 0.8186\n",
    "# Epoch 2/3\n",
    "# 48897/48896 [==============================] - 1717s 35ms/step - loss: 0.3655 - acc: 0.8398 - val_loss: 0.3979 - val_acc: 0.8227\n",
    "# Epoch 3/3\n",
    "# 48897/48896 [==============================] - 1713s 35ms/step - loss: 0.3309 - acc: 0.8625 - val_loss: 0.4021 - val_acc: 0.8190\n",
    "# CPU times: user 1h 24min 25s, sys: 21min 15s, total: 1h 45min 41s\n",
    "# Wall time: 1h 25min 46s"
   ]
  },
  {
   "cell_type": "code",
   "execution_count": null,
   "metadata": {},
   "outputs": [],
   "source": [
    "# %%time\n",
    "\n",
    "# from keras.callbacks import ModelCheckpoint\n",
    "\n",
    "# model = Sequential()\n",
    "# model.add(Dense(200, activation='relu', input_dim=100000))\n",
    "# model.add(Dropout(0.5))\n",
    "# model.add(Dense(100, activation='relu'))\n",
    "# model.add(Dropout(0.2))\n",
    "# model.add(Dense(50, activation='relu'))\n",
    "# model.add(Dense(10, activation='relu'))\n",
    "# model.add(Dense(1, activation='sigmoid'))\n",
    "# model.compile(optimizer='adam',\n",
    "#               loss='binary_crossentropy',\n",
    "#               metrics=['accuracy'])\n",
    "\n",
    "# # checkpointer = ModelCheckpoint(filepath=\"/home/ubuntu/Capstone/\", save_best_only=True, monitor=\"val_loss\")\n",
    "# # history = model.fit_generator(generator=batch_generator(x_train_tfidf, y_train, 32),\n",
    "# #                     epochs=5, validation_data=(x_validation_tfidf, y_validation),\n",
    "# #                     steps_per_epoch=x_train_tfidf.shape[0]/32, checkpointer=checkpointer)\n",
    "\n",
    "# history = model.fit_generator(generator=batch_generator(x_train_tfidf, y_train, 32),\n",
    "#                     epochs=5, validation_data=(x_validation_tfidf, y_validation),\n",
    "#                     steps_per_epoch=x_train_tfidf.shape[0]/32)\n",
    "\n",
    "# Epoch 1/5\n",
    "# 48897/48896 [==============================] - 1717s 35ms/step - loss: 0.4141 - acc: 0.8120 - val_loss: 0.3993 - val_acc: 0.8195\n",
    "# Epoch 2/5\n",
    "# 48897/48896 [==============================] - 1721s 35ms/step - loss: 0.3776 - acc: 0.8338 - val_loss: 0.3985 - val_acc: 0.8192\n",
    "# Epoch 3/5\n",
    "# 48897/48896 [==============================] - 1722s 35ms/step - loss: 0.3626 - acc: 0.8445 - val_loss: 0.4004 - val_acc: 0.8194\n",
    "# Epoch 4/5\n",
    "# 48897/48896 [==============================] - 1724s 35ms/step - loss: 0.3478 - acc: 0.8553 - val_loss: 0.4019 - val_acc: 0.8181\n",
    "# Epoch 5/5\n",
    "# 48897/48896 [==============================] - 1718s 35ms/step - loss: 0.3340 - acc: 0.8642 - val_loss: 0.4076 - val_acc: 0.8178\n",
    "# CPU times: user 2h 21min 1s, sys: 35min 10s, total: 2h 56min 12s\n",
    "# Wall time: 2h 23min 23s"
   ]
  },
  {
   "cell_type": "code",
   "execution_count": null,
   "metadata": {},
   "outputs": [],
   "source": [
    "# model = Sequential()\n",
    "# model.add(Dense(200, activation='relu', input_dim=100000))\n",
    "# model.add(Dropout(0.5))\n",
    "# model.add(Dense(100, activation='sigmoid'))\n",
    "# model.add(Dropout(0.2))\n",
    "# model.add(Dense(50, activation='relu'))\n",
    "# model.add(Dense(10, activation='sigmoid'))\n",
    "# model.add(Dense(1, activation='sigmoid'))\n",
    "# model.compile(optimizer='adam',\n",
    "#               loss='binary_crossentropy',\n",
    "#               metrics=['accuracy'])\n",
    "\n",
    "# # checkpointer = ModelCheckpoint(filepath=\"/home/ubuntu/Capstone/\", save_best_only=True, monitor=\"val_loss\")\n",
    "# # history = model.fit_generator(generator=batch_generator(x_train_tfidf, y_train, 32),\n",
    "# #                     epochs=5, validation_data=(x_validation_tfidf, y_validation),\n",
    "# #                     steps_per_epoch=x_train_tfidf.shape[0]/32, checkpointer=checkpointer)\n",
    "\n",
    "# history = model.fit_generator(generator=batch_generator(x_train_tfidf, y_train, 32),\n",
    "#                     epochs=4, validation_data=(x_validation_tfidf, y_validation),\n",
    "#                     steps_per_epoch=x_train_tfidf.shape[0]/32)\n",
    "\n",
    "# Epoch 1/4\n",
    "# 48897/48896 [==============================] - 1726s 35ms/step - loss: 0.4137 - acc: 0.8121 - val_loss: 0.4008 - val_acc: 0.8166\n",
    "# Epoch 2/4\n",
    "# 48897/48896 [==============================] - 1724s 35ms/step - loss: 0.3760 - acc: 0.8351 - val_loss: 0.3999 - val_acc: 0.8189\n",
    "# Epoch 3/4\n",
    "# 48897/48896 [==============================] - 1725s 35ms/step - loss: 0.3614 - acc: 0.8454 - val_loss: 0.4012 - val_acc: 0.8205\n",
    "# Epoch 4/4\n",
    "# 48897/48896 [==============================] - 1731s 35ms/step - loss: 0.3457 - acc: 0.8563 - val_loss: 0.4024 - val_acc: 0.8214"
   ]
  },
  {
   "cell_type": "code",
   "execution_count": 61,
   "metadata": {},
   "outputs": [
    {
     "name": "stdout",
     "output_type": "stream",
     "text": [
      "Epoch 1/3\n",
      "48897/48896 [==============================] - 1728s 35ms/step - loss: 0.4141 - acc: 0.8121 - val_loss: 0.4015 - val_acc: 0.8170\n",
      "Epoch 2/3\n",
      "48897/48896 [==============================] - 1726s 35ms/step - loss: 0.3774 - acc: 0.8342 - val_loss: 0.4009 - val_acc: 0.8192\n",
      "Epoch 3/3\n",
      "48897/48896 [==============================] - 1725s 35ms/step - loss: 0.3625 - acc: 0.8448 - val_loss: 0.3998 - val_acc: 0.8213\n",
      "CPU times: user 1h 25min 4s, sys: 21min 20s, total: 1h 46min 25s\n",
      "Wall time: 1h 26min 20s\n"
     ]
    }
   ],
   "source": [
    "######### proper validationloss - 1 for 3 epoch\n",
    "%%time\n",
    "model = Sequential()\n",
    "model.add(Dense(200, activation='relu', input_dim=100000))\n",
    "model.add(Dropout(0.5))\n",
    "model.add(Dense(100, activation='relu'))\n",
    "model.add(Dropout(0.2))\n",
    "model.add(Dense(50, activation='relu'))\n",
    "model.add(Dense(10, activation='relu'))\n",
    "model.add(Dense(1, activation='sigmoid'))\n",
    "model.compile(optimizer='adam',\n",
    "              loss='binary_crossentropy',\n",
    "              metrics=['accuracy'])\n",
    "\n",
    "history = model.fit_generator(generator=batch_generator(x_train_tfidf, y_train, 32),\n",
    "                    epochs=3, validation_data=(x_validation_tfidf, y_validation),\n",
    "                    steps_per_epoch=x_train_tfidf.shape[0]/32)\n",
    "\n"
   ]
  },
  {
   "cell_type": "code",
   "execution_count": 64,
   "metadata": {},
   "outputs": [
    {
     "data": {
      "text/plain": [
       "[<matplotlib.lines.Line2D at 0x7f3c45dd8f60>]"
      ]
     },
     "execution_count": 64,
     "metadata": {},
     "output_type": "execute_result"
    },
    {
     "data": {
      "image/png": "[encoded data removed]",
      "text/plain": [
       "<matplotlib.figure.Figure at 0x7f3c53113f60>"
      ]
     },
     "metadata": {},
     "output_type": "display_data"
    }
   ],
   "source": [
    "# plt.plot(history.history[\"loss\"], label = \"Train loss\")\n",
    "plt.plot(history.history[\"val_loss\"], label = \"Validation data loss\", color='red')"
   ]
  },
  {
   "cell_type": "code",
   "execution_count": 51,
   "metadata": {},
   "outputs": [],
   "source": [
    "\n",
    "# saving the model\n",
    "model.save('nn-model_3.h5')  # creates a HDF5 file 'my_model.h5'\n"
   ]
  },
  {
   "cell_type": "code",
   "execution_count": 52,
   "metadata": {},
   "outputs": [],
   "source": [
    "# loading the model\n",
    "model = load_model('nn-model_3.h5')"
   ]
  },
  {
   "cell_type": "code",
   "execution_count": 53,
   "metadata": {},
   "outputs": [
    {
     "data": {
      "text/plain": [
       "[0.3416750641398911, 0.8634672338490711]"
      ]
     },
     "execution_count": 53,
     "metadata": {},
     "output_type": "execute_result"
    }
   ],
   "source": [
    "# %%time\n",
    "model.evaluate_generator(generator=batch_generator(x_train_tfidf, y_train, 32),steps=x_train_tfidf.shape[0]/32, \n",
    "                         max_queue_size=10, workers=1, use_multiprocessing=False)\n",
    "\n",
    "# We can also achieve the above result using the below method\n",
    "# evaluate_generator(self, generator, steps=None, max_queue_size=10, workers=1, use_multiprocessing=False)\n",
    "\n",
    "\n"
   ]
  },
  {
   "cell_type": "markdown",
   "metadata": {},
   "source": [
    "## Prediction"
   ]
  },
  {
   "cell_type": "code",
   "execution_count": 54,
   "metadata": {},
   "outputs": [],
   "source": [
    "x_test_tfidf = tvec1.transform(x_test).toarray()"
   ]
  },
  {
   "cell_type": "code",
   "execution_count": 55,
   "metadata": {},
   "outputs": [],
   "source": [
    "# pred = model.predict_generator(generator=batch_generator(x_test_tfidf, y_test, 32),steps=x_test_tfidf.shape[0]/32, max_queue_size=10, \n",
    "#                                workers=1, use_multiprocessing=False, verbose=1)"
   ]
  },
  {
   "cell_type": "code",
   "execution_count": 56,
   "metadata": {},
   "outputs": [
    {
     "name": "stdout",
     "output_type": "stream",
     "text": [
      "15967/15967 [==============================] - 8s 489us/step\n"
     ]
    }
   ],
   "source": [
    "pred1 = model.predict(x_test_tfidf, verbose=1)"
   ]
  },
  {
   "cell_type": "code",
   "execution_count": 57,
   "metadata": {},
   "outputs": [
    {
     "data": {
      "text/plain": [
       "array([[0.76124537],\n",
       "       [0.9069183 ],\n",
       "       [0.91954076],\n",
       "       ...,\n",
       "       [0.08315146],\n",
       "       [0.83159447],\n",
       "       [0.7580793 ]], dtype=float32)"
      ]
     },
     "execution_count": 57,
     "metadata": {},
     "output_type": "execute_result"
    }
   ],
   "source": [
    "pred1"
   ]
  },
  {
   "cell_type": "code",
   "execution_count": 58,
   "metadata": {},
   "outputs": [],
   "source": [
    "pred_val = []\n",
    "for i in pred1:\n",
    "    if i > 0.5:\n",
    "        pred_val1 = 1\n",
    "        pred_val.append(pred_val1)\n",
    "    else:\n",
    "        pred_val1 = 0\n",
    "        pred_val.append(pred_val1)"
   ]
  },
  {
   "cell_type": "code",
   "execution_count": 59,
   "metadata": {},
   "outputs": [
    {
     "data": {
      "text/plain": [
       "pandas.core.series.Series"
      ]
     },
     "execution_count": 59,
     "metadata": {},
     "output_type": "execute_result"
    }
   ],
   "source": [
    "type(y_test)"
   ]
  },
  {
   "cell_type": "code",
   "execution_count": 60,
   "metadata": {},
   "outputs": [
    {
     "data": {
      "text/plain": [
       "list"
      ]
     },
     "execution_count": 60,
     "metadata": {},
     "output_type": "execute_result"
    }
   ],
   "source": [
    "type(pred_val)"
   ]
  },
  {
   "cell_type": "code",
   "execution_count": 61,
   "metadata": {},
   "outputs": [
    {
     "name": "stdout",
     "output_type": "stream",
     "text": [
      "             precision    recall  f1-score   support\n",
      "\n",
      "          0       0.82      0.85      0.83      7970\n",
      "          1       0.84      0.81      0.83      7997\n",
      "\n",
      "avg / total       0.83      0.83      0.83     15967\n",
      "\n"
     ]
    }
   ],
   "source": [
    "# Classification metrix\n",
    "print(classification_report(y_test.tolist(), pred_val))"
   ]
  },
  {
   "cell_type": "code",
   "execution_count": 62,
   "metadata": {},
   "outputs": [
    {
     "data": {
      "image/png": "[encoded data removed]",
      "text/plain": [
       "<matplotlib.figure.Figure at 0x7ff133995da0>"
      ]
     },
     "metadata": {},
     "output_type": "display_data"
    }
   ],
   "source": [
    "# ROC curve\n",
    "from sklearn.metrics import roc_auc_score\n",
    "from sklearn.metrics import roc_curve\n",
    "model_roc_auc = roc_auc_score(y_test.tolist(), pred_val)\n",
    "fpr, tpr, thresholds = roc_curve(y_test.tolist(), model.predict_proba(x_test_tfidf))\n",
    "plt.figure()\n",
    "plt.plot(fpr, tpr, label='Gradient Boost(RF) (area = %0.2f)' % model_roc_auc)\n",
    "plt.plot([0, 1], [0, 1],'r--')\n",
    "plt.xlim([0.0, 1.0])\n",
    "plt.ylim([0.0, 1.05])\n",
    "plt.xlabel('False Positive Rate')\n",
    "plt.ylabel('True Positive Rate')\n",
    "plt.title('Receiver operating characteristic')\n",
    "plt.legend(loc=\"lower right\")\n",
    "plt.savefig('Log_ROC')\n",
    "plt.show()"
   ]
  },
  {
   "cell_type": "code",
   "execution_count": 63,
   "metadata": {},
   "outputs": [],
   "source": [
    "df_test_view = pd.DataFrame()\n",
    "df_test_view[\"Sentences\"] = x_test\n",
    "df_test_view[\"real-y-values\"] = y_test\n",
    "df_test_view[\"Predictions\"] = pred1"
   ]
  },
  {
   "cell_type": "code",
   "execution_count": 64,
   "metadata": {},
   "outputs": [
    {
     "data": {
      "text/html": [
       "<div>\n",
       "<style scoped>\n",
       "    .dataframe tbody tr th:only-of-type {\n",
       "        vertical-align: middle;\n",
       "    }\n",
       "\n",
       "    .dataframe tbody tr th {\n",
       "        vertical-align: top;\n",
       "    }\n",
       "\n",
       "    .dataframe thead th {\n",
       "        text-align: right;\n",
       "    }\n",
       "</style>\n",
       "<table border=\"1\" class=\"dataframe\">\n",
       "  <thead>\n",
       "    <tr style=\"text-align: right;\">\n",
       "      <th></th>\n",
       "      <th>Sentences</th>\n",
       "      <th>real-y-values</th>\n",
       "      <th>Predictions</th>\n",
       "    </tr>\n",
       "  </thead>\n",
       "  <tbody>\n",
       "    <tr>\n",
       "      <th>1435744</th>\n",
       "      <td>well if you ever need ny tix we sell tix natio...</td>\n",
       "      <td>1</td>\n",
       "      <td>0.761245</td>\n",
       "    </tr>\n",
       "    <tr>\n",
       "      <th>1254910</th>\n",
       "      <td>whoohoo it going down you gotta check out it c...</td>\n",
       "      <td>1</td>\n",
       "      <td>0.906918</td>\n",
       "    </tr>\n",
       "    <tr>\n",
       "      <th>1510247</th>\n",
       "      <td>are you in seattle tomorrow if so let me know ...</td>\n",
       "      <td>1</td>\n",
       "      <td>0.919541</td>\n",
       "    </tr>\n",
       "    <tr>\n",
       "      <th>1395796</th>\n",
       "      <td>jade love the new photo gorgeous xxx</td>\n",
       "      <td>1</td>\n",
       "      <td>0.971236</td>\n",
       "    </tr>\n",
       "    <tr>\n",
       "      <th>969040</th>\n",
       "      <td>had the mother of all hangovers today super ev...</td>\n",
       "      <td>1</td>\n",
       "      <td>0.826093</td>\n",
       "    </tr>\n",
       "    <tr>\n",
       "      <th>824449</th>\n",
       "      <td>shall go and shower now and then go and pick t...</td>\n",
       "      <td>1</td>\n",
       "      <td>0.886612</td>\n",
       "    </tr>\n",
       "    <tr>\n",
       "      <th>1429481</th>\n",
       "      <td>wrong seb but thanks none the less</td>\n",
       "      <td>1</td>\n",
       "      <td>0.794089</td>\n",
       "    </tr>\n",
       "    <tr>\n",
       "      <th>598043</th>\n",
       "      <td>missin my baby</td>\n",
       "      <td>0</td>\n",
       "      <td>0.021154</td>\n",
       "    </tr>\n",
       "    <tr>\n",
       "      <th>465417</th>\n",
       "      <td>oh really that dissapointing</td>\n",
       "      <td>0</td>\n",
       "      <td>0.169575</td>\n",
       "    </tr>\n",
       "    <tr>\n",
       "      <th>1425459</th>\n",
       "      <td>soon soon sure we ll get em</td>\n",
       "      <td>1</td>\n",
       "      <td>0.924761</td>\n",
       "    </tr>\n",
       "    <tr>\n",
       "      <th>664066</th>\n",
       "      <td>damn papa was not included in the sexy follow ...</td>\n",
       "      <td>0</td>\n",
       "      <td>0.259266</td>\n",
       "    </tr>\n",
       "    <tr>\n",
       "      <th>698842</th>\n",
       "      <td>now the visitors are getting here now</td>\n",
       "      <td>0</td>\n",
       "      <td>0.462782</td>\n",
       "    </tr>\n",
       "    <tr>\n",
       "      <th>204941</th>\n",
       "      <td>homework alllll dayy then the ballet then more...</td>\n",
       "      <td>0</td>\n",
       "      <td>0.389986</td>\n",
       "    </tr>\n",
       "    <tr>\n",
       "      <th>1349987</th>\n",
       "      <td>up to my eyeballs in paper shreds yay summer c...</td>\n",
       "      <td>1</td>\n",
       "      <td>0.453971</td>\n",
       "    </tr>\n",
       "    <tr>\n",
       "      <th>1459244</th>\n",
       "      <td>good morning lance how are you hope you are ha...</td>\n",
       "      <td>1</td>\n",
       "      <td>0.980104</td>\n",
       "    </tr>\n",
       "    <tr>\n",
       "      <th>1573286</th>\n",
       "      <td>night az sweet dreams talk to you later love ya</td>\n",
       "      <td>1</td>\n",
       "      <td>0.948202</td>\n",
       "    </tr>\n",
       "    <tr>\n",
       "      <th>1288541</th>\n",
       "      <td>it tuesday do not know why that particularly s...</td>\n",
       "      <td>1</td>\n",
       "      <td>0.269348</td>\n",
       "    </tr>\n",
       "    <tr>\n",
       "      <th>1249495</th>\n",
       "      <td>good roll this morning need to be more aggress...</td>\n",
       "      <td>1</td>\n",
       "      <td>0.736750</td>\n",
       "    </tr>\n",
       "    <tr>\n",
       "      <th>1302298</th>\n",
       "      <td>one more day to go and then starts the french ...</td>\n",
       "      <td>1</td>\n",
       "      <td>0.781060</td>\n",
       "    </tr>\n",
       "    <tr>\n",
       "      <th>1408024</th>\n",
       "      <td>totally awesome sir it shall be waiting for yo...</td>\n",
       "      <td>1</td>\n",
       "      <td>0.980191</td>\n",
       "    </tr>\n",
       "  </tbody>\n",
       "</table>\n",
       "</div>"
      ],
      "text/plain": [
       "                                                 Sentences  real-y-values  \\\n",
       "1435744  well if you ever need ny tix we sell tix natio...              1   \n",
       "1254910  whoohoo it going down you gotta check out it c...              1   \n",
       "1510247  are you in seattle tomorrow if so let me know ...              1   \n",
       "1395796               jade love the new photo gorgeous xxx              1   \n",
       "969040   had the mother of all hangovers today super ev...              1   \n",
       "824449   shall go and shower now and then go and pick t...              1   \n",
       "1429481                 wrong seb but thanks none the less              1   \n",
       "598043                                      missin my baby              0   \n",
       "465417                        oh really that dissapointing              0   \n",
       "1425459                        soon soon sure we ll get em              1   \n",
       "664066   damn papa was not included in the sexy follow ...              0   \n",
       "698842               now the visitors are getting here now              0   \n",
       "204941   homework alllll dayy then the ballet then more...              0   \n",
       "1349987  up to my eyeballs in paper shreds yay summer c...              1   \n",
       "1459244  good morning lance how are you hope you are ha...              1   \n",
       "1573286    night az sweet dreams talk to you later love ya              1   \n",
       "1288541  it tuesday do not know why that particularly s...              1   \n",
       "1249495  good roll this morning need to be more aggress...              1   \n",
       "1302298  one more day to go and then starts the french ...              1   \n",
       "1408024  totally awesome sir it shall be waiting for yo...              1   \n",
       "\n",
       "         Predictions  \n",
       "1435744     0.761245  \n",
       "1254910     0.906918  \n",
       "1510247     0.919541  \n",
       "1395796     0.971236  \n",
       "969040      0.826093  \n",
       "824449      0.886612  \n",
       "1429481     0.794089  \n",
       "598043      0.021154  \n",
       "465417      0.169575  \n",
       "1425459     0.924761  \n",
       "664066      0.259266  \n",
       "698842      0.462782  \n",
       "204941      0.389986  \n",
       "1349987     0.453971  \n",
       "1459244     0.980104  \n",
       "1573286     0.948202  \n",
       "1288541     0.269348  \n",
       "1249495     0.736750  \n",
       "1302298     0.781060  \n",
       "1408024     0.980191  "
      ]
     },
     "execution_count": 64,
     "metadata": {},
     "output_type": "execute_result"
    }
   ],
   "source": [
    "df_test_view.head(20)"
   ]
  },
  {
   "cell_type": "code",
   "execution_count": 65,
   "metadata": {},
   "outputs": [
    {
     "data": {
      "text/html": [
       "<div>\n",
       "<style scoped>\n",
       "    .dataframe tbody tr th:only-of-type {\n",
       "        vertical-align: middle;\n",
       "    }\n",
       "\n",
       "    .dataframe tbody tr th {\n",
       "        vertical-align: top;\n",
       "    }\n",
       "\n",
       "    .dataframe thead th {\n",
       "        text-align: right;\n",
       "    }\n",
       "</style>\n",
       "<table border=\"1\" class=\"dataframe\">\n",
       "  <thead>\n",
       "    <tr style=\"text-align: right;\">\n",
       "      <th></th>\n",
       "      <th>Sentences</th>\n",
       "      <th>real-y-values</th>\n",
       "      <th>Predictions</th>\n",
       "    </tr>\n",
       "  </thead>\n",
       "  <tbody>\n",
       "    <tr>\n",
       "      <th>598043</th>\n",
       "      <td>missin my baby</td>\n",
       "      <td>0</td>\n",
       "      <td>0.021154</td>\n",
       "    </tr>\n",
       "    <tr>\n",
       "      <th>465417</th>\n",
       "      <td>oh really that dissapointing</td>\n",
       "      <td>0</td>\n",
       "      <td>0.169575</td>\n",
       "    </tr>\n",
       "    <tr>\n",
       "      <th>664066</th>\n",
       "      <td>damn papa was not included in the sexy follow ...</td>\n",
       "      <td>0</td>\n",
       "      <td>0.259266</td>\n",
       "    </tr>\n",
       "    <tr>\n",
       "      <th>698842</th>\n",
       "      <td>now the visitors are getting here now</td>\n",
       "      <td>0</td>\n",
       "      <td>0.462782</td>\n",
       "    </tr>\n",
       "    <tr>\n",
       "      <th>204941</th>\n",
       "      <td>homework alllll dayy then the ballet then more...</td>\n",
       "      <td>0</td>\n",
       "      <td>0.389986</td>\n",
       "    </tr>\n",
       "    <tr>\n",
       "      <th>1349987</th>\n",
       "      <td>up to my eyeballs in paper shreds yay summer c...</td>\n",
       "      <td>1</td>\n",
       "      <td>0.453971</td>\n",
       "    </tr>\n",
       "    <tr>\n",
       "      <th>1288541</th>\n",
       "      <td>it tuesday do not know why that particularly s...</td>\n",
       "      <td>1</td>\n",
       "      <td>0.269348</td>\n",
       "    </tr>\n",
       "    <tr>\n",
       "      <th>716919</th>\n",
       "      <td>cant beileve they beat us</td>\n",
       "      <td>0</td>\n",
       "      <td>0.215603</td>\n",
       "    </tr>\n",
       "    <tr>\n",
       "      <th>791681</th>\n",
       "      <td>first time did not have time to finish the test</td>\n",
       "      <td>0</td>\n",
       "      <td>0.143381</td>\n",
       "    </tr>\n",
       "    <tr>\n",
       "      <th>384</th>\n",
       "      <td>pepperoni rolls in called valentino they said ...</td>\n",
       "      <td>0</td>\n",
       "      <td>0.184681</td>\n",
       "    </tr>\n",
       "  </tbody>\n",
       "</table>\n",
       "</div>"
      ],
      "text/plain": [
       "                                                 Sentences  real-y-values  \\\n",
       "598043                                      missin my baby              0   \n",
       "465417                        oh really that dissapointing              0   \n",
       "664066   damn papa was not included in the sexy follow ...              0   \n",
       "698842               now the visitors are getting here now              0   \n",
       "204941   homework alllll dayy then the ballet then more...              0   \n",
       "1349987  up to my eyeballs in paper shreds yay summer c...              1   \n",
       "1288541  it tuesday do not know why that particularly s...              1   \n",
       "716919                           cant beileve they beat us              0   \n",
       "791681     first time did not have time to finish the test              0   \n",
       "384      pepperoni rolls in called valentino they said ...              0   \n",
       "\n",
       "         Predictions  \n",
       "598043      0.021154  \n",
       "465417      0.169575  \n",
       "664066      0.259266  \n",
       "698842      0.462782  \n",
       "204941      0.389986  \n",
       "1349987     0.453971  \n",
       "1288541     0.269348  \n",
       "716919      0.215603  \n",
       "791681      0.143381  \n",
       "384         0.184681  "
      ]
     },
     "execution_count": 65,
     "metadata": {},
     "output_type": "execute_result"
    }
   ],
   "source": [
    "df_test_view[df_test_view[\"Predictions\"] < 0.5].head(10)"
   ]
  },
  {
   "cell_type": "code",
   "execution_count": 66,
   "metadata": {},
   "outputs": [
    {
     "data": {
      "text/html": [
       "<div>\n",
       "<style scoped>\n",
       "    .dataframe tbody tr th:only-of-type {\n",
       "        vertical-align: middle;\n",
       "    }\n",
       "\n",
       "    .dataframe tbody tr th {\n",
       "        vertical-align: top;\n",
       "    }\n",
       "\n",
       "    .dataframe thead th {\n",
       "        text-align: right;\n",
       "    }\n",
       "</style>\n",
       "<table border=\"1\" class=\"dataframe\">\n",
       "  <thead>\n",
       "    <tr style=\"text-align: right;\">\n",
       "      <th></th>\n",
       "      <th>Sentences</th>\n",
       "      <th>real-y-values</th>\n",
       "      <th>Predictions</th>\n",
       "    </tr>\n",
       "  </thead>\n",
       "  <tbody>\n",
       "    <tr>\n",
       "      <th>1435744</th>\n",
       "      <td>well if you ever need ny tix we sell tix natio...</td>\n",
       "      <td>1</td>\n",
       "      <td>0.761245</td>\n",
       "    </tr>\n",
       "    <tr>\n",
       "      <th>1254910</th>\n",
       "      <td>whoohoo it going down you gotta check out it c...</td>\n",
       "      <td>1</td>\n",
       "      <td>0.906918</td>\n",
       "    </tr>\n",
       "    <tr>\n",
       "      <th>1510247</th>\n",
       "      <td>are you in seattle tomorrow if so let me know ...</td>\n",
       "      <td>1</td>\n",
       "      <td>0.919541</td>\n",
       "    </tr>\n",
       "    <tr>\n",
       "      <th>1395796</th>\n",
       "      <td>jade love the new photo gorgeous xxx</td>\n",
       "      <td>1</td>\n",
       "      <td>0.971236</td>\n",
       "    </tr>\n",
       "    <tr>\n",
       "      <th>969040</th>\n",
       "      <td>had the mother of all hangovers today super ev...</td>\n",
       "      <td>1</td>\n",
       "      <td>0.826093</td>\n",
       "    </tr>\n",
       "    <tr>\n",
       "      <th>824449</th>\n",
       "      <td>shall go and shower now and then go and pick t...</td>\n",
       "      <td>1</td>\n",
       "      <td>0.886612</td>\n",
       "    </tr>\n",
       "    <tr>\n",
       "      <th>1429481</th>\n",
       "      <td>wrong seb but thanks none the less</td>\n",
       "      <td>1</td>\n",
       "      <td>0.794089</td>\n",
       "    </tr>\n",
       "    <tr>\n",
       "      <th>1425459</th>\n",
       "      <td>soon soon sure we ll get em</td>\n",
       "      <td>1</td>\n",
       "      <td>0.924761</td>\n",
       "    </tr>\n",
       "    <tr>\n",
       "      <th>1459244</th>\n",
       "      <td>good morning lance how are you hope you are ha...</td>\n",
       "      <td>1</td>\n",
       "      <td>0.980104</td>\n",
       "    </tr>\n",
       "    <tr>\n",
       "      <th>1573286</th>\n",
       "      <td>night az sweet dreams talk to you later love ya</td>\n",
       "      <td>1</td>\n",
       "      <td>0.948202</td>\n",
       "    </tr>\n",
       "  </tbody>\n",
       "</table>\n",
       "</div>"
      ],
      "text/plain": [
       "                                                 Sentences  real-y-values  \\\n",
       "1435744  well if you ever need ny tix we sell tix natio...              1   \n",
       "1254910  whoohoo it going down you gotta check out it c...              1   \n",
       "1510247  are you in seattle tomorrow if so let me know ...              1   \n",
       "1395796               jade love the new photo gorgeous xxx              1   \n",
       "969040   had the mother of all hangovers today super ev...              1   \n",
       "824449   shall go and shower now and then go and pick t...              1   \n",
       "1429481                 wrong seb but thanks none the less              1   \n",
       "1425459                        soon soon sure we ll get em              1   \n",
       "1459244  good morning lance how are you hope you are ha...              1   \n",
       "1573286    night az sweet dreams talk to you later love ya              1   \n",
       "\n",
       "         Predictions  \n",
       "1435744     0.761245  \n",
       "1254910     0.906918  \n",
       "1510247     0.919541  \n",
       "1395796     0.971236  \n",
       "969040      0.826093  \n",
       "824449      0.886612  \n",
       "1429481     0.794089  \n",
       "1425459     0.924761  \n",
       "1459244     0.980104  \n",
       "1573286     0.948202  "
      ]
     },
     "execution_count": 66,
     "metadata": {},
     "output_type": "execute_result"
    }
   ],
   "source": [
    "df_test_view[df_test_view[\"Predictions\"] > 0.5].head(10)"
   ]
  },
  {
   "cell_type": "markdown",
   "metadata": {
    "colab": {
     "autoexec": {
      "startup": false,
      "wait_interval": 0
     }
    },
    "colab_type": "code",
    "id": "KBmeJrfgNx0O"
   },
   "source": [
    "## TEST"
   ]
  },
  {
   "cell_type": "code",
   "execution_count": 67,
   "metadata": {},
   "outputs": [],
   "source": [
    "docs = [\"I will not be able to come for your party, sorry\"]"
   ]
  },
  {
   "cell_type": "code",
   "execution_count": 68,
   "metadata": {},
   "outputs": [],
   "source": [
    "\n",
    "tok = WordPunctTokenizer()\n",
    "\n",
    "mention1 = r'@[A-Za-z0-9]+'\n",
    "mention2 = r'https?://[^ ]+'\n",
    "combined_pat = r'|'.join((mention1, mention2))\n",
    "www_pat = r'www.[^ ]+\\.[^ ]+'\n",
    "negations_dic = {\"don't\":\"do not\", \"doesn't\":\"does not\",\"didn't\":\"did not\",\n",
    "                \"can't\":\"can not\",\"couldn't\":\"could not\",\"shouldn't\":\"should not\",\"mightn't\":\"might not\",\n",
    "                \"mustn't\":\"must not\", \"wasn't\":\"was not\", \"weren't\":\"were not\", \"isn't\":\"is not\", \"aren't\":\"are not\", \n",
    "                \"haven't\":\"have not\",\"hasn't\":\"has not\",\"hadn't\":\"had not\",\"won't\":\"will not\",\n",
    "                \"wouldn't\":\"would not\", \"dislike\":\"do not like\"}\n",
    "neg_pattern = re.compile(r'\\b(' + '|'.join(negations_dic.keys()) + r')\\b')\n",
    "combined_pattern = re.compile(combined_pat)\n",
    "www_pattern = re.compile(www_pat)\n",
    "letters_pattern = re.compile(\"[^a-zA-Z]\")"
   ]
  },
  {
   "cell_type": "code",
   "execution_count": 69,
   "metadata": {},
   "outputs": [],
   "source": [
    "def clean_sentence(lower, higher, texts):\n",
    "  \n",
    "  results = []\n",
    "  start_time = time.time()\n",
    "  \n",
    "  for i in range(lower, higher):\n",
    "    \n",
    "    if (i - lower + 1) % 100000 == 0:\n",
    "      end_time = time.time() - start_time\n",
    "      print(i - lower + 1, \"Sentences cleaned , time in seconds:\", end_time)\n",
    "      start_time = time.time()\n",
    "    text = texts[i]\n",
    "    html_unescaped = html.unescape(text)\n",
    "    try:\n",
    "        bom_removed = html_unescaped.decode(\"utf-8-sig\").replace(u\"\\ufffd\", \"?\")\n",
    "    except:\n",
    "        bom_removed = html_unescaped\n",
    "    stripped = combined_pattern.sub('', bom_removed)\n",
    "    stripped = www_pattern.sub('', stripped)\n",
    "    lower_case = stripped.lower()\n",
    "    words = [negations_dic[x] if x in negations_dic else x for x in lower_case.split(' ')]\n",
    "    neg_handled = \" \".join(words).strip()\n",
    "    letters_only = letters_pattern.sub(\" \", neg_handled)\n",
    "    words = [x for x  in tok.tokenize(letters_only) if len(x) > 1]\n",
    "    results.append(\" \".join(words).strip())\n",
    "    \n",
    "  return results"
   ]
  },
  {
   "cell_type": "code",
   "execution_count": 70,
   "metadata": {},
   "outputs": [
    {
     "name": "stdout",
     "output_type": "stream",
     "text": [
      "Sentence Cleaning........\n",
      "\n",
      "\n",
      "Sentence Cleaning Completed........\n",
      "\n"
     ]
    }
   ],
   "source": [
    "print(\"Sentence Cleaning........\\n\")\n",
    "# clean_Sentences_test = []\n",
    "# clean_Sentences_test.extend(clean_sentence(0, len(docs), docs))\n",
    "clean_doc = clean_sentence(0, len(docs), docs)\n",
    "print(\"\\nSentence Cleaning Completed........\\n\")"
   ]
  },
  {
   "cell_type": "code",
   "execution_count": 71,
   "metadata": {},
   "outputs": [
    {
     "data": {
      "text/plain": [
       "['will not be able to come for your party sorry']"
      ]
     },
     "execution_count": 71,
     "metadata": {},
     "output_type": "execute_result"
    }
   ],
   "source": [
    "clean_doc"
   ]
  },
  {
   "cell_type": "code",
   "execution_count": 73,
   "metadata": {},
   "outputs": [],
   "source": [
    "# load the tfidf\n",
    "tfidf = pickle.load(open(\"tfidf_result_3.pkl\", \"rb\" ) )"
   ]
  },
  {
   "cell_type": "code",
   "execution_count": 74,
   "metadata": {},
   "outputs": [],
   "source": [
    "# pred_sentence = tvec1.transform(clean_doc).toarray()\n",
    "pred_sentence = tfidf.transform(clean_doc).toarray()\n"
   ]
  },
  {
   "cell_type": "code",
   "execution_count": 75,
   "metadata": {},
   "outputs": [
    {
     "data": {
      "text/plain": [
       "(1, 100000)"
      ]
     },
     "execution_count": 75,
     "metadata": {},
     "output_type": "execute_result"
    }
   ],
   "source": [
    "pred_sentence.shape"
   ]
  },
  {
   "cell_type": "code",
   "execution_count": 76,
   "metadata": {},
   "outputs": [],
   "source": [
    "# # loading the modelfrom keras.models import load_model\n",
    "# model1 = load_model('nn-model_2.h5')"
   ]
  },
  {
   "cell_type": "code",
   "execution_count": 77,
   "metadata": {},
   "outputs": [
    {
     "name": "stdout",
     "output_type": "stream",
     "text": [
      "\r",
      "1/1 [==============================] - 0s 4ms/step\n"
     ]
    }
   ],
   "source": [
    "pred = model.predict(pred_sentence, verbose=1)"
   ]
  },
  {
   "cell_type": "code",
   "execution_count": 78,
   "metadata": {},
   "outputs": [
    {
     "data": {
      "text/plain": [
       "array([[0.10864294]], dtype=float32)"
      ]
     },
     "execution_count": 78,
     "metadata": {},
     "output_type": "execute_result"
    }
   ],
   "source": [
    "pred"
   ]
  },
  {
   "cell_type": "markdown",
   "metadata": {},
   "source": [
    "Reading links : \n",
    "\n",
    "1. https://nlp.stanford.edu/projects/glove/\n"
   ]
  },
  {
   "cell_type": "code",
   "execution_count": null,
   "metadata": {},
   "outputs": [],
   "source": []
  }
 ],
 "metadata": {
  "accelerator": "GPU",
  "colab": {
   "collapsed_sections": [],
   "default_view": {},
   "name": "DonnaAlex_capstone-3.ipynb",
   "provenance": [],
   "version": "0.3.2",
   "views": {}
  },
  "kernelspec": {
   "display_name": "Python 3",
   "language": "python",
   "name": "python3"
  },
  "language_info": {
   "codemirror_mode": {
    "name": "ipython",
    "version": 3
   },
   "file_extension": ".py",
   "mimetype": "text/x-python",
   "name": "python",
   "nbconvert_exporter": "python",
   "pygments_lexer": "ipython3",
   "version": "3.6.4"
  }
 },
 "nbformat": 4,
 "nbformat_minor": 1
}
