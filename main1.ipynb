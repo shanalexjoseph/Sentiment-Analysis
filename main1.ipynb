{
 "cells": [
  {
   "cell_type": "code",
   "execution_count": 1,
   "metadata": {},
   "outputs": [
    {
     "name": "stdout",
     "output_type": "stream",
     "text": [
      "Requirement already satisfied: sklearn in /home/ubuntu/anaconda3/envs/tensorflow_p36/lib/python3.6/site-packages\n",
      "Requirement already satisfied: scikit-learn in /home/ubuntu/anaconda3/envs/tensorflow_p36/lib/python3.6/site-packages (from sklearn)\n",
      "\u001b[33mYou are using pip version 9.0.1, however version 9.0.3 is available.\n",
      "You should consider upgrading via the 'pip install --upgrade pip' command.\u001b[0m\n"
     ]
    }
   ],
   "source": [
    "!pip install sklearn"
   ]
  },
  {
   "cell_type": "code",
   "execution_count": 2,
   "metadata": {
    "colab": {
     "autoexec": {
      "startup": false,
      "wait_interval": 0
     }
    },
    "colab_type": "code",
    "id": "15HyuFD4aTgO"
   },
   "outputs": [
    {
     "name": "stderr",
     "output_type": "stream",
     "text": [
      "/home/ubuntu/anaconda3/envs/tensorflow_p36/lib/python3.6/site-packages/matplotlib/__init__.py:962: UserWarning: Duplicate key in file \"/home/ubuntu/.config/matplotlib/matplotlibrc\", line #2\n",
      "  (fname, cnt))\n",
      "/home/ubuntu/anaconda3/envs/tensorflow_p36/lib/python3.6/site-packages/matplotlib/__init__.py:962: UserWarning: Duplicate key in file \"/home/ubuntu/.config/matplotlib/matplotlibrc\", line #3\n",
      "  (fname, cnt))\n",
      "/home/ubuntu/anaconda3/envs/tensorflow_p36/lib/python3.6/site-packages/h5py/__init__.py:36: FutureWarning: Conversion of the second argument of issubdtype from `float` to `np.floating` is deprecated. In future, it will be treated as `np.float64 == np.dtype(float).type`.\n",
      "  from ._conv import register_converters as _register_converters\n",
      "Using TensorFlow backend.\n",
      "/home/ubuntu/anaconda3/envs/tensorflow_p36/lib/python3.6/site-packages/sklearn/cross_validation.py:41: DeprecationWarning: This module was deprecated in version 0.18 in favor of the model_selection module into which all the refactored classes and functions are moved. Also note that the interface of the new CV iterators are different from that of this module. This module will be removed in 0.20.\n",
      "  \"This module will be removed in 0.20.\", DeprecationWarning)\n"
     ]
    }
   ],
   "source": [
    "import pandas as pd\n",
    "import numpy as np\n",
    "import matplotlib.pyplot as plt\n",
    "\n",
    "import numpy as np\n",
    "\n",
    "\n",
    "from keras.models import Sequential, Model\n",
    "from keras.layers import Dense, Dropout, Flatten, Input, MaxPooling1D, Convolution1D, Embedding\n",
    "from keras.layers.merge import Concatenate\n",
    "from keras.datasets import imdb\n",
    "from keras.preprocessing import sequence\n",
    "from keras.preprocessing.text import Tokenizer\n",
    "from keras.models import Sequential\n",
    "from keras.preprocessing import sequence\n",
    "from keras.models import load_model\n",
    "\n",
    "\n",
    "from sklearn.cross_validation import train_test_split\n",
    "from sklearn.metrics import accuracy_score\n",
    "from sklearn.metrics import classification_report, confusion_matrix\n",
    "from sklearn.linear_model import LinearRegression\n",
    "from sklearn.feature_extraction.text import CountVectorizer\n",
    "from sklearn.pipeline import Pipeline\n",
    "\n",
    "\n",
    "from keras.preprocessing.text import Tokenizer\n",
    "from keras.preprocessing.sequence import pad_sequences\n",
    "from keras.utils import to_categorical\n",
    "from keras.layers import Dense, Input, GlobalMaxPooling1D\n",
    "from keras.layers import Conv1D, MaxPooling1D, Embedding\n",
    "from keras.models import Model\n",
    "from sklearn.preprocessing import Normalizer\n",
    "from sklearn.feature_extraction.text import TfidfVectorizer\n",
    "import pickle\n",
    "from sklearn.linear_model import LogisticRegression\n",
    "from sklearn.ensemble import RandomForestClassifier, GradientBoostingClassifier\n",
    "from sklearn.naive_bayes import MultinomialNB\n",
    "from sklearn.ensemble import RandomForestClassifier, RandomForestRegressor\n",
    "\n",
    "\n",
    "from keras.models import Sequential, Model\n",
    "from keras.layers import Dense, Dropout, Flatten, Input, MaxPooling1D, Convolution1D, Embedding\n",
    "from keras.layers.merge import Concatenate\n",
    "from keras.preprocessing import sequence\n",
    "\n",
    "import time\n",
    "import html\n",
    "from nltk.tokenize import WordPunctTokenizer\n",
    "import re\n",
    "\n",
    "np.random.seed(0)\n",
    "\n",
    "%matplotlib inline"
   ]
  },
  {
   "cell_type": "markdown",
   "metadata": {},
   "source": [
    "from keras.preprocessing import sequence\n",
    "Keras has provide very nice text processing functions.\n",
    "\n",
    "Then we can format our text samples and labels into tensors that can be fed into a neural network. To do this, we will rely on Keras utilities keras.preprocessing.text.Tokenizer and keras.preprocessing.sequence.pad_sequences."
   ]
  },
  {
   "cell_type": "code",
   "execution_count": 3,
   "metadata": {
    "colab": {
     "autoexec": {
      "startup": false,
      "wait_interval": 0
     }
    },
    "colab_type": "code",
    "id": "CE1EMXPgaTgW"
   },
   "outputs": [],
   "source": [
    "clean_data = pd.read_csv(\"clean_sentences.csv\")"
   ]
  },
  {
   "cell_type": "code",
   "execution_count": 4,
   "metadata": {
    "colab": {
     "autoexec": {
      "startup": false,
      "wait_interval": 0
     }
    },
    "colab_type": "code",
    "id": "Y6uAzWoBaTgc"
   },
   "outputs": [],
   "source": [
    "# Converting the above data to a dataframe\n",
    "df = pd.DataFrame(clean_data)"
   ]
  },
  {
   "cell_type": "code",
   "execution_count": 5,
   "metadata": {
    "colab": {
     "autoexec": {
      "startup": false,
      "wait_interval": 0
     },
     "base_uri": "https://localhost:8080/",
     "height": 34,
     "output_extras": [
      {
       "item_id": 1
      }
     ]
    },
    "colab_type": "code",
    "executionInfo": {
     "elapsed": 241,
     "status": "ok",
     "timestamp": 1521866520799,
     "user": {
      "displayName": "donna alex",
      "photoUrl": "//lh6.googleusercontent.com/-H58kuq1ExZk/AAAAAAAAAAI/AAAAAAAAAzs/5lbOM0-qvzI/s50-c-k-no/photo.jpg",
      "userId": "115248177046208592333"
     },
     "user_tz": 420
    },
    "id": "F8msjw1saTgj",
    "outputId": "0a0eb78a-bfa1-4acb-8c10-4262b87b289a"
   },
   "outputs": [
    {
     "data": {
      "text/plain": [
       "(1600000, 2)"
      ]
     },
     "execution_count": 5,
     "metadata": {},
     "output_type": "execute_result"
    }
   ],
   "source": [
    "# Checking the shape of the dataframe\n",
    "df.shape"
   ]
  },
  {
   "cell_type": "code",
   "execution_count": 6,
   "metadata": {
    "colab": {
     "autoexec": {
      "startup": false,
      "wait_interval": 0
     },
     "base_uri": "https://localhost:8080/",
     "height": 34,
     "output_extras": [
      {
       "item_id": 1
      }
     ]
    },
    "colab_type": "code",
    "executionInfo": {
     "elapsed": 252,
     "status": "ok",
     "timestamp": 1521866521505,
     "user": {
      "displayName": "donna alex",
      "photoUrl": "//lh6.googleusercontent.com/-H58kuq1ExZk/AAAAAAAAAAI/AAAAAAAAAzs/5lbOM0-qvzI/s50-c-k-no/photo.jpg",
      "userId": "115248177046208592333"
     },
     "user_tz": 420
    },
    "id": "8CJS94bDaTgx",
    "outputId": "eab176d8-1521-43e2-a7ea-7ecf26a3ec61"
   },
   "outputs": [
    {
     "data": {
      "text/plain": [
       "Index(['Sentences', 'Label'], dtype='object')"
      ]
     },
     "execution_count": 6,
     "metadata": {},
     "output_type": "execute_result"
    }
   ],
   "source": [
    "# looking into the columns of the dataframe\n",
    "df.columns"
   ]
  },
  {
   "cell_type": "code",
   "execution_count": 7,
   "metadata": {
    "colab": {
     "autoexec": {
      "startup": false,
      "wait_interval": 0
     },
     "base_uri": "https://localhost:8080/",
     "height": 34,
     "output_extras": [
      {
       "item_id": 1
      }
     ]
    },
    "colab_type": "code",
    "executionInfo": {
     "elapsed": 383,
     "status": "ok",
     "timestamp": 1521866522125,
     "user": {
      "displayName": "donna alex",
      "photoUrl": "//lh6.googleusercontent.com/-H58kuq1ExZk/AAAAAAAAAAI/AAAAAAAAAzs/5lbOM0-qvzI/s50-c-k-no/photo.jpg",
      "userId": "115248177046208592333"
     },
     "user_tz": 420
    },
    "id": "BZ5QPeDkaTg7",
    "outputId": "592823a7-1147-48ff-e285-29818aa5d4e3"
   },
   "outputs": [
    {
     "data": {
      "text/plain": [
       "3373"
      ]
     },
     "execution_count": 7,
     "metadata": {},
     "output_type": "execute_result"
    }
   ],
   "source": [
    "# Checking if there is any null values\n",
    "np.sum(df.isnull().any(axis=1))"
   ]
  },
  {
   "cell_type": "code",
   "execution_count": 8,
   "metadata": {
    "colab": {
     "autoexec": {
      "startup": false,
      "wait_interval": 0
     },
     "base_uri": "https://localhost:8080/",
     "height": 204,
     "output_extras": [
      {
       "item_id": 1
      }
     ]
    },
    "colab_type": "code",
    "executionInfo": {
     "elapsed": 387,
     "status": "ok",
     "timestamp": 1521866522768,
     "user": {
      "displayName": "donna alex",
      "photoUrl": "//lh6.googleusercontent.com/-H58kuq1ExZk/AAAAAAAAAAI/AAAAAAAAAzs/5lbOM0-qvzI/s50-c-k-no/photo.jpg",
      "userId": "115248177046208592333"
     },
     "user_tz": 420
    },
    "id": "IT6T8NJpaThD",
    "outputId": "d4d70588-20c3-4ff7-ee44-02e78195bd57"
   },
   "outputs": [
    {
     "data": {
      "text/html": [
       "<div>\n",
       "<style scoped>\n",
       "    .dataframe tbody tr th:only-of-type {\n",
       "        vertical-align: middle;\n",
       "    }\n",
       "\n",
       "    .dataframe tbody tr th {\n",
       "        vertical-align: top;\n",
       "    }\n",
       "\n",
       "    .dataframe thead th {\n",
       "        text-align: right;\n",
       "    }\n",
       "</style>\n",
       "<table border=\"1\" class=\"dataframe\">\n",
       "  <thead>\n",
       "    <tr style=\"text-align: right;\">\n",
       "      <th></th>\n",
       "      <th>Sentences</th>\n",
       "      <th>Label</th>\n",
       "    </tr>\n",
       "  </thead>\n",
       "  <tbody>\n",
       "    <tr>\n",
       "      <th>208</th>\n",
       "      <td>NaN</td>\n",
       "      <td>0</td>\n",
       "    </tr>\n",
       "    <tr>\n",
       "      <th>249</th>\n",
       "      <td>NaN</td>\n",
       "      <td>0</td>\n",
       "    </tr>\n",
       "    <tr>\n",
       "      <th>398</th>\n",
       "      <td>NaN</td>\n",
       "      <td>0</td>\n",
       "    </tr>\n",
       "    <tr>\n",
       "      <th>430</th>\n",
       "      <td>NaN</td>\n",
       "      <td>0</td>\n",
       "    </tr>\n",
       "    <tr>\n",
       "      <th>1011</th>\n",
       "      <td>NaN</td>\n",
       "      <td>0</td>\n",
       "    </tr>\n",
       "  </tbody>\n",
       "</table>\n",
       "</div>"
      ],
      "text/plain": [
       "     Sentences  Label\n",
       "208        NaN      0\n",
       "249        NaN      0\n",
       "398        NaN      0\n",
       "430        NaN      0\n",
       "1011       NaN      0"
      ]
     },
     "execution_count": 8,
     "metadata": {},
     "output_type": "execute_result"
    }
   ],
   "source": [
    "# Checking all the rows in the null values\n",
    "df[df.isnull().any(axis=1)].head()"
   ]
  },
  {
   "cell_type": "code",
   "execution_count": 9,
   "metadata": {
    "colab": {
     "autoexec": {
      "startup": false,
      "wait_interval": 0
     }
    },
    "colab_type": "code",
    "id": "I3aeR4PYaThM"
   },
   "outputs": [],
   "source": [
    "# Dropping all the null values\n",
    "df = df.dropna()"
   ]
  },
  {
   "cell_type": "code",
   "execution_count": 10,
   "metadata": {
    "colab": {
     "autoexec": {
      "startup": false,
      "wait_interval": 0
     },
     "base_uri": "https://localhost:8080/",
     "height": 34,
     "output_extras": [
      {
       "item_id": 1
      }
     ]
    },
    "colab_type": "code",
    "executionInfo": {
     "elapsed": 277,
     "status": "ok",
     "timestamp": 1521866524055,
     "user": {
      "displayName": "donna alex",
      "photoUrl": "//lh6.googleusercontent.com/-H58kuq1ExZk/AAAAAAAAAAI/AAAAAAAAAzs/5lbOM0-qvzI/s50-c-k-no/photo.jpg",
      "userId": "115248177046208592333"
     },
     "user_tz": 420
    },
    "id": "z2IXlh6raThS",
    "outputId": "c512fee0-099f-408a-da9d-f1b9880f5997"
   },
   "outputs": [
    {
     "data": {
      "text/plain": [
       "(1596627, 2)"
      ]
     },
     "execution_count": 10,
     "metadata": {},
     "output_type": "execute_result"
    }
   ],
   "source": [
    "# Checking the shape after dropping the null values\n",
    "df.shape"
   ]
  },
  {
   "cell_type": "code",
   "execution_count": 11,
   "metadata": {
    "colab": {
     "autoexec": {
      "startup": false,
      "wait_interval": 0
     },
     "base_uri": "https://localhost:8080/",
     "height": 34,
     "output_extras": [
      {
       "item_id": 1
      }
     ]
    },
    "colab_type": "code",
    "executionInfo": {
     "elapsed": 403,
     "status": "ok",
     "timestamp": 1521866524697,
     "user": {
      "displayName": "donna alex",
      "photoUrl": "//lh6.googleusercontent.com/-H58kuq1ExZk/AAAAAAAAAAI/AAAAAAAAAzs/5lbOM0-qvzI/s50-c-k-no/photo.jpg",
      "userId": "115248177046208592333"
     },
     "user_tz": 420
    },
    "id": "Uop9RhMBaThd",
    "outputId": "86e80b72-6963-484d-c11f-d1dd8b7c4b2e"
   },
   "outputs": [
    {
     "data": {
      "text/plain": [
       "0"
      ]
     },
     "execution_count": 11,
     "metadata": {},
     "output_type": "execute_result"
    }
   ],
   "source": [
    "# Rechecking if there is anymore null values\n",
    "np.sum(df.isnull().any(axis=1))"
   ]
  },
  {
   "cell_type": "code",
   "execution_count": 12,
   "metadata": {
    "colab": {
     "autoexec": {
      "startup": false,
      "wait_interval": 0
     },
     "base_uri": "https://localhost:8080/",
     "height": 68,
     "output_extras": [
      {
       "item_id": 1
      }
     ]
    },
    "colab_type": "code",
    "executionInfo": {
     "elapsed": 268,
     "status": "ok",
     "timestamp": 1521866525212,
     "user": {
      "displayName": "donna alex",
      "photoUrl": "//lh6.googleusercontent.com/-H58kuq1ExZk/AAAAAAAAAAI/AAAAAAAAAzs/5lbOM0-qvzI/s50-c-k-no/photo.jpg",
      "userId": "115248177046208592333"
     },
     "user_tz": 420
    },
    "id": "37dot_gfaTho",
    "outputId": "ea9232e1-8be2-4ea4-f94b-8f7e6aee8de2"
   },
   "outputs": [
    {
     "data": {
      "text/plain": [
       "0    798467\n",
       "1    798160\n",
       "Name: Label, dtype: int64"
      ]
     },
     "execution_count": 12,
     "metadata": {},
     "output_type": "execute_result"
    }
   ],
   "source": [
    "# Checking if we have equal no of positive and negative sentences\n",
    "df[\"Label\"].value_counts()"
   ]
  },
  {
   "cell_type": "code",
   "execution_count": 13,
   "metadata": {
    "colab": {
     "autoexec": {
      "startup": false,
      "wait_interval": 0
     },
     "base_uri": "https://localhost:8080/",
     "height": 204,
     "output_extras": [
      {
       "item_id": 1
      }
     ]
    },
    "colab_type": "code",
    "executionInfo": {
     "elapsed": 266,
     "status": "ok",
     "timestamp": 1521866525743,
     "user": {
      "displayName": "donna alex",
      "photoUrl": "//lh6.googleusercontent.com/-H58kuq1ExZk/AAAAAAAAAAI/AAAAAAAAAzs/5lbOM0-qvzI/s50-c-k-no/photo.jpg",
      "userId": "115248177046208592333"
     },
     "user_tz": 420
    },
    "id": "sWfnFEoOaThz",
    "outputId": "2b468d2f-1dca-4a48-ed9a-592b2c599f38"
   },
   "outputs": [
    {
     "data": {
      "text/html": [
       "<div>\n",
       "<style scoped>\n",
       "    .dataframe tbody tr th:only-of-type {\n",
       "        vertical-align: middle;\n",
       "    }\n",
       "\n",
       "    .dataframe tbody tr th {\n",
       "        vertical-align: top;\n",
       "    }\n",
       "\n",
       "    .dataframe thead th {\n",
       "        text-align: right;\n",
       "    }\n",
       "</style>\n",
       "<table border=\"1\" class=\"dataframe\">\n",
       "  <thead>\n",
       "    <tr style=\"text-align: right;\">\n",
       "      <th></th>\n",
       "      <th>Sentences</th>\n",
       "      <th>Label</th>\n",
       "    </tr>\n",
       "  </thead>\n",
       "  <tbody>\n",
       "    <tr>\n",
       "      <th>0</th>\n",
       "      <td>awww that bummer you shoulda got david carr of...</td>\n",
       "      <td>0</td>\n",
       "    </tr>\n",
       "    <tr>\n",
       "      <th>1</th>\n",
       "      <td>is upset that he can not update his facebook b...</td>\n",
       "      <td>0</td>\n",
       "    </tr>\n",
       "    <tr>\n",
       "      <th>2</th>\n",
       "      <td>dived many times for the ball managed to save ...</td>\n",
       "      <td>0</td>\n",
       "    </tr>\n",
       "    <tr>\n",
       "      <th>3</th>\n",
       "      <td>my whole body feels itchy and like its on fire</td>\n",
       "      <td>0</td>\n",
       "    </tr>\n",
       "    <tr>\n",
       "      <th>4</th>\n",
       "      <td>no it not behaving at all mad why am here beca...</td>\n",
       "      <td>0</td>\n",
       "    </tr>\n",
       "  </tbody>\n",
       "</table>\n",
       "</div>"
      ],
      "text/plain": [
       "                                           Sentences  Label\n",
       "0  awww that bummer you shoulda got david carr of...      0\n",
       "1  is upset that he can not update his facebook b...      0\n",
       "2  dived many times for the ball managed to save ...      0\n",
       "3     my whole body feels itchy and like its on fire      0\n",
       "4  no it not behaving at all mad why am here beca...      0"
      ]
     },
     "execution_count": 13,
     "metadata": {},
     "output_type": "execute_result"
    }
   ],
   "source": [
    "df.head()"
   ]
  },
  {
   "cell_type": "code",
   "execution_count": 14,
   "metadata": {},
   "outputs": [
    {
     "data": {
      "text/plain": [
       "'is upset that he can not update his facebook by texting it and might cry as result school today also blah'"
      ]
     },
     "execution_count": 14,
     "metadata": {},
     "output_type": "execute_result"
    }
   ],
   "source": [
    "df[\"Sentences\"][1]"
   ]
  },
  {
   "cell_type": "code",
   "execution_count": 15,
   "metadata": {
    "colab": {
     "autoexec": {
      "startup": false,
      "wait_interval": 0
     },
     "base_uri": "https://localhost:8080/",
     "height": 68,
     "output_extras": [
      {
       "item_id": 1
      }
     ]
    },
    "colab_type": "code",
    "executionInfo": {
     "elapsed": 258,
     "status": "ok",
     "timestamp": 1521866526300,
     "user": {
      "displayName": "donna alex",
      "photoUrl": "//lh6.googleusercontent.com/-H58kuq1ExZk/AAAAAAAAAAI/AAAAAAAAAzs/5lbOM0-qvzI/s50-c-k-no/photo.jpg",
      "userId": "115248177046208592333"
     },
     "user_tz": 420
    },
    "id": "FpDCsNViaTh9",
    "outputId": "7e578d6e-7e6a-4acd-9d91-988837ded443"
   },
   "outputs": [
    {
     "data": {
      "text/plain": [
       "0    798467\n",
       "1    798160\n",
       "Name: Label, dtype: int64"
      ]
     },
     "execution_count": 15,
     "metadata": {},
     "output_type": "execute_result"
    }
   ],
   "source": [
    "df[\"Label\"].value_counts()"
   ]
  },
  {
   "cell_type": "code",
   "execution_count": 16,
   "metadata": {
    "colab": {
     "autoexec": {
      "startup": false,
      "wait_interval": 0
     }
    },
    "colab_type": "code",
    "id": "_TT_BCjeaTiG"
   },
   "outputs": [],
   "source": [
    "# Assigning the features and target values to X and y\n",
    "X = df[\"Sentences\"]\n",
    "y = df[\"Label\"]"
   ]
  },
  {
   "cell_type": "code",
   "execution_count": 17,
   "metadata": {
    "colab": {
     "autoexec": {
      "startup": false,
      "wait_interval": 0
     },
     "base_uri": "https://localhost:8080/",
     "height": 68,
     "output_extras": [
      {
       "item_id": 1
      }
     ]
    },
    "colab_type": "code",
    "executionInfo": {
     "elapsed": 271,
     "status": "ok",
     "timestamp": 1521866528902,
     "user": {
      "displayName": "donna alex",
      "photoUrl": "//lh6.googleusercontent.com/-H58kuq1ExZk/AAAAAAAAAAI/AAAAAAAAAzs/5lbOM0-qvzI/s50-c-k-no/photo.jpg",
      "userId": "115248177046208592333"
     },
     "user_tz": 420
    },
    "id": "2LpCZMiUaTiW",
    "outputId": "45b49fa9-dd70-461f-819f-ab90b0b81d22"
   },
   "outputs": [
    {
     "name": "stdout",
     "output_type": "stream",
     "text": [
      "Training data: \n",
      "(1596627,)\n",
      "(1596627,)\n"
     ]
    }
   ],
   "source": [
    "print(\"Training data: \")\n",
    "print(X.shape)\n",
    "print(y.shape)"
   ]
  },
  {
   "cell_type": "code",
   "execution_count": 18,
   "metadata": {
    "colab": {
     "autoexec": {
      "startup": false,
      "wait_interval": 0
     },
     "base_uri": "https://localhost:8080/",
     "height": 51,
     "output_extras": [
      {
       "item_id": 1
      }
     ]
    },
    "colab_type": "code",
    "executionInfo": {
     "elapsed": 342,
     "status": "ok",
     "timestamp": 1521866529472,
     "user": {
      "displayName": "donna alex",
      "photoUrl": "//lh6.googleusercontent.com/-H58kuq1ExZk/AAAAAAAAAAI/AAAAAAAAAzs/5lbOM0-qvzI/s50-c-k-no/photo.jpg",
      "userId": "115248177046208592333"
     },
     "user_tz": 420
    },
    "id": "PylbAcp1aTih",
    "outputId": "b91255a5-dad7-491f-95c8-4e6c09ead763"
   },
   "outputs": [
    {
     "name": "stdout",
     "output_type": "stream",
     "text": [
      "no. of classes :\n",
      "[0 1]\n"
     ]
    }
   ],
   "source": [
    "print(\"no. of classes :\")\n",
    "print(np.unique(y))"
   ]
  },
  {
   "cell_type": "code",
   "execution_count": 19,
   "metadata": {
    "colab": {
     "autoexec": {
      "startup": false,
      "wait_interval": 0
     },
     "base_uri": "https://localhost:8080/",
     "height": 51,
     "output_extras": [
      {
       "item_id": 2
      }
     ]
    },
    "colab_type": "code",
    "executionInfo": {
     "elapsed": 11256,
     "status": "ok",
     "timestamp": 1521866540970,
     "user": {
      "displayName": "donna alex",
      "photoUrl": "//lh6.googleusercontent.com/-H58kuq1ExZk/AAAAAAAAAAI/AAAAAAAAAzs/5lbOM0-qvzI/s50-c-k-no/photo.jpg",
      "userId": "115248177046208592333"
     },
     "user_tz": 420
    },
    "id": "MUnfeeZUaTiq",
    "outputId": "aead7466-d8ef-445c-aa4f-bd3e24921648"
   },
   "outputs": [
    {
     "name": "stdout",
     "output_type": "stream",
     "text": [
      "Number of words: \n",
      "1519745\n"
     ]
    }
   ],
   "source": [
    "# Summarize number of words\n",
    "print(\"Number of words: \")\n",
    "print(len(np.unique(np.hstack(X))))"
   ]
  },
  {
   "cell_type": "code",
   "execution_count": 20,
   "metadata": {
    "colab": {
     "autoexec": {
      "startup": false,
      "wait_interval": 0
     },
     "base_uri": "https://localhost:8080/",
     "height": 299,
     "output_extras": [
      {
       "item_id": 2
      },
      {
       "item_id": 3
      }
     ]
    },
    "colab_type": "code",
    "executionInfo": {
     "elapsed": 1061,
     "status": "ok",
     "timestamp": 1521866542078,
     "user": {
      "displayName": "donna alex",
      "photoUrl": "//lh6.googleusercontent.com/-H58kuq1ExZk/AAAAAAAAAAI/AAAAAAAAAzs/5lbOM0-qvzI/s50-c-k-no/photo.jpg",
      "userId": "115248177046208592333"
     },
     "user_tz": 420
    },
    "id": "NgIdslQNaTiz",
    "outputId": "635d0735-9024-4ec7-ebe1-5c7c5f3ce4de"
   },
   "outputs": [
    {
     "name": "stdout",
     "output_type": "stream",
     "text": [
      "Sentence length: \n",
      "Mean 60.23 words (32.842545)\n"
     ]
    },
    {
     "data": {
      "image/png": "[encoded data removed]",
      "text/plain": [
       "<matplotlib.figure.Figure at 0x7fc073dcc7f0>"
      ]
     },
     "metadata": {},
     "output_type": "display_data"
    }
   ],
   "source": [
    "# Summarize sentence length\n",
    "print(\"Sentence length: \")\n",
    "result = [len(x) for x in X]\n",
    "print(\"Mean %.2f words (%f)\" % (np.mean(result), np.std(result)))\n",
    "# plot review length\n",
    "plt.boxplot(result)\n",
    "plt.show()"
   ]
  },
  {
   "cell_type": "code",
   "execution_count": 21,
   "metadata": {},
   "outputs": [],
   "source": [
    "# Train, Test and Validation split\n",
    "x_train, x_validation_and_test, y_train, y_validation_and_test = train_test_split(X, y, test_size=.02, random_state=42)\n",
    "x_validation, x_test, y_validation, y_test = train_test_split(x_validation_and_test, y_validation_and_test, test_size=.5, random_state=42)"
   ]
  },
  {
   "cell_type": "code",
   "execution_count": 22,
   "metadata": {},
   "outputs": [],
   "source": [
    "# looking into the shape of the data after the data split"
   ]
  },
  {
   "cell_type": "code",
   "execution_count": 23,
   "metadata": {},
   "outputs": [
    {
     "data": {
      "text/plain": [
       "(1564694,)"
      ]
     },
     "execution_count": 23,
     "metadata": {},
     "output_type": "execute_result"
    }
   ],
   "source": [
    "x_train.shape"
   ]
  },
  {
   "cell_type": "code",
   "execution_count": 24,
   "metadata": {},
   "outputs": [
    {
     "data": {
      "text/plain": [
       "31933"
      ]
     },
     "execution_count": 24,
     "metadata": {},
     "output_type": "execute_result"
    }
   ],
   "source": [
    "X.shape[0] - x_train.shape[0]"
   ]
  },
  {
   "cell_type": "code",
   "execution_count": 25,
   "metadata": {},
   "outputs": [
    {
     "data": {
      "text/plain": [
       "(31933,)"
      ]
     },
     "execution_count": 25,
     "metadata": {},
     "output_type": "execute_result"
    }
   ],
   "source": [
    "x_validation_and_test.shape"
   ]
  },
  {
   "cell_type": "code",
   "execution_count": 26,
   "metadata": {},
   "outputs": [
    {
     "data": {
      "text/plain": [
       "(15966,)"
      ]
     },
     "execution_count": 26,
     "metadata": {},
     "output_type": "execute_result"
    }
   ],
   "source": [
    "x_validation.shape"
   ]
  },
  {
   "cell_type": "code",
   "execution_count": 27,
   "metadata": {},
   "outputs": [
    {
     "data": {
      "text/plain": [
       "(15967,)"
      ]
     },
     "execution_count": 27,
     "metadata": {},
     "output_type": "execute_result"
    }
   ],
   "source": [
    "x_test.shape"
   ]
  },
  {
   "cell_type": "code",
   "execution_count": 28,
   "metadata": {},
   "outputs": [
    {
     "data": {
      "text/plain": [
       "TfidfVectorizer(analyzer='word', binary=False, decode_error='strict',\n",
       "        dtype=<class 'numpy.int64'>, encoding='utf-8', input='content',\n",
       "        lowercase=True, max_df=1.0, max_features=100000, min_df=1,\n",
       "        ngram_range=(1, 3), norm='l2', preprocessor=None, smooth_idf=True,\n",
       "        stop_words=None, strip_accents=None, sublinear_tf=False,\n",
       "        token_pattern='(?u)\\\\b\\\\w\\\\w+\\\\b', tokenizer=None, use_idf=True,\n",
       "        vocabulary=None)"
      ]
     },
     "execution_count": 28,
     "metadata": {},
     "output_type": "execute_result"
    }
   ],
   "source": [
    "# TFIDF\n",
    "tvec1 = TfidfVectorizer(max_features=100000,ngram_range=(1, 3))\n",
    "tvec1.fit(x_train)"
   ]
  },
  {
   "cell_type": "code",
   "execution_count": 29,
   "metadata": {},
   "outputs": [],
   "source": [
    "# feature_names = tfidf.get_feature_names()\n",
    "# for col in response.nonzero()[1]:\n",
    "#     print feature_names[col], ' - ', response[0, col]"
   ]
  },
  {
   "cell_type": "code",
   "execution_count": 30,
   "metadata": {},
   "outputs": [],
   "source": [
    "# Trasforming to vectors\n",
    "x_train_tfidf = tvec1.transform(x_train)"
   ]
  },
  {
   "cell_type": "code",
   "execution_count": 31,
   "metadata": {},
   "outputs": [
    {
     "data": {
      "text/plain": [
       "<1564694x100000 sparse matrix of type '<class 'numpy.float64'>'\n",
       "\twith 29876579 stored elements in Compressed Sparse Row format>"
      ]
     },
     "execution_count": 31,
     "metadata": {},
     "output_type": "execute_result"
    }
   ],
   "source": [
    "x_train_tfidf"
   ]
  },
  {
   "cell_type": "code",
   "execution_count": 32,
   "metadata": {},
   "outputs": [],
   "source": [
    "# Trasforming to vectors and converting them to an array\n",
    "x_validation_tfidf = tvec1.transform(x_validation).toarray()\n"
   ]
  },
  {
   "cell_type": "code",
   "execution_count": 33,
   "metadata": {},
   "outputs": [
    {
     "data": {
      "text/plain": [
       "array([[0., 0., 0., ..., 0., 0., 0.],\n",
       "       [0., 0., 0., ..., 0., 0., 0.],\n",
       "       [0., 0., 0., ..., 0., 0., 0.],\n",
       "       ...,\n",
       "       [0., 0., 0., ..., 0., 0., 0.],\n",
       "       [0., 0., 0., ..., 0., 0., 0.],\n",
       "       [0., 0., 0., ..., 0., 0., 0.]])"
      ]
     },
     "execution_count": 33,
     "metadata": {},
     "output_type": "execute_result"
    }
   ],
   "source": [
    "x_validation_tfidf"
   ]
  },
  {
   "cell_type": "markdown",
   "metadata": {},
   "source": [
    "## Logistic Regression"
   ]
  },
  {
   "cell_type": "code",
   "execution_count": 52,
   "metadata": {},
   "outputs": [
    {
     "name": "stdout",
     "output_type": "stream",
     "text": [
      "CPU times: user 53.4 s, sys: 48 ms, total: 53.5 s\n",
      "Wall time: 53.5 s\n"
     ]
    }
   ],
   "source": [
    "%%time\n",
    "lr = LogisticRegression()\n",
    "lr.fit(x_train_tfidf, y_train)"
   ]
  },
  {
   "cell_type": "code",
   "execution_count": 53,
   "metadata": {},
   "outputs": [
    {
     "data": {
      "text/plain": [
       "0.8419882737455374"
      ]
     },
     "execution_count": 53,
     "metadata": {},
     "output_type": "execute_result"
    }
   ],
   "source": [
    "lr.score(x_train_tfidf, y_train)"
   ]
  },
  {
   "cell_type": "code",
   "execution_count": 54,
   "metadata": {},
   "outputs": [
    {
     "data": {
      "text/plain": [
       "0.8207440811724915"
      ]
     },
     "execution_count": 54,
     "metadata": {},
     "output_type": "execute_result"
    }
   ],
   "source": [
    "lr.score(x_validation_tfidf, y_validation)"
   ]
  },
  {
   "cell_type": "markdown",
   "metadata": {},
   "source": [
    "## Random Forest"
   ]
  },
  {
   "cell_type": "code",
   "execution_count": 39,
   "metadata": {},
   "outputs": [
    {
     "name": "stdout",
     "output_type": "stream",
     "text": [
      "Training the random forest...\n"
     ]
    },
    {
     "name": "stderr",
     "output_type": "stream",
     "text": [
      "[Parallel(n_jobs=1)]: Done  10 out of  10 | elapsed: 75.1min finished\n"
     ]
    },
    {
     "name": "stdout",
     "output_type": "stream",
     "text": [
      "CPU times: user 1h 15min 28s, sys: 1.14 s, total: 1h 15min 29s\n",
      "Wall time: 1h 15min 29s\n"
     ]
    },
    {
     "name": "stderr",
     "output_type": "stream",
     "text": [
      "/home/ubuntu/anaconda3/envs/tensorflow_p36/lib/python3.6/site-packages/sklearn/ensemble/forest.py:453: UserWarning: Some inputs do not have OOB scores. This probably means too few trees were used to compute any reliable oob estimates.\n",
      "  warn(\"Some inputs do not have OOB scores. \"\n",
      "/home/ubuntu/anaconda3/envs/tensorflow_p36/lib/python3.6/site-packages/sklearn/ensemble/forest.py:458: RuntimeWarning: invalid value encountered in true_divide\n",
      "  predictions[k].sum(axis=1)[:, np.newaxis])\n"
     ]
    }
   ],
   "source": [
    "%%time\n",
    "print(\"Training the random forest...\")\n",
    "\n",
    "# Initialize a Random Forest classifier with 100 trees\n",
    "\n",
    "# forest = RandomForestClassifier(bootstrap=True, class_weight=None, criterion='gini',\n",
    "#             max_features='auto', max_leaf_nodes=None,\n",
    "#             min_impurity_decrease=0.0, min_impurity_split=None,\n",
    "#             min_samples_leaf=2, min_samples_split=10,\n",
    "#             min_weight_fraction_leaf=0.0, n_jobs=1,\n",
    "#             random_state=42, verbose=0, warm_start=False, max_depth = 10,\n",
    "#             n_estimators = 200)\n",
    "\n",
    "\n",
    "# forest = RandomForestClassifier(n_estimators = 100) \n",
    "\n",
    "forest = RandomForestClassifier(n_estimators = 10, oob_score=True, random_state=1, verbose=1) \n",
    "\n",
    "# Fit the forest to the training set, using the bag of words as \n",
    "# features and the sentiment labels as the response variable\n",
    "#\n",
    "# This may take a few minutes to run\n",
    "forest = forest.fit( x_train_tfidf, y_train )"
   ]
  },
  {
   "cell_type": "code",
   "execution_count": 40,
   "metadata": {},
   "outputs": [
    {
     "name": "stderr",
     "output_type": "stream",
     "text": [
      "[Parallel(n_jobs=1)]: Done  10 out of  10 | elapsed:   37.6s finished\n"
     ]
    },
    {
     "data": {
      "text/plain": [
       "0.9826585901141054"
      ]
     },
     "execution_count": 40,
     "metadata": {},
     "output_type": "execute_result"
    }
   ],
   "source": [
    "forest.score(x_train_tfidf, y_train)"
   ]
  },
  {
   "cell_type": "code",
   "execution_count": 41,
   "metadata": {},
   "outputs": [
    {
     "name": "stderr",
     "output_type": "stream",
     "text": [
      "[Parallel(n_jobs=1)]: Done  10 out of  10 | elapsed:    1.1s finished\n"
     ]
    },
    {
     "data": {
      "text/plain": [
       "0.7747713892020544"
      ]
     },
     "execution_count": 41,
     "metadata": {},
     "output_type": "execute_result"
    }
   ],
   "source": [
    "forest.score(x_validation_tfidf, y_validation)"
   ]
  },
  {
   "cell_type": "markdown",
   "metadata": {},
   "source": [
    "## GradientBoost"
   ]
  },
  {
   "cell_type": "code",
   "execution_count": 42,
   "metadata": {},
   "outputs": [
    {
     "name": "stdout",
     "output_type": "stream",
     "text": [
      "      Iter       Train Loss   Remaining Time \n",
      "         1           1.3734           25.82m\n",
      "         2           1.3628           24.41m\n",
      "         3           1.3540           23.91m\n",
      "         4           1.3463           23.48m\n",
      "         5           1.3397           23.15m\n",
      "         6           1.3338           22.78m\n",
      "         7           1.3281           22.46m\n",
      "         8           1.3232           22.17m\n",
      "         9           1.3189           21.93m\n",
      "        10           1.3147           21.65m\n",
      "        20           1.2806           19.39m\n",
      "        30           1.2566           16.93m\n",
      "        40           1.2381           14.51m\n",
      "        50           1.2233           12.09m\n",
      "        60           1.2108            9.68m\n",
      "        70           1.1992            7.26m\n",
      "        80           1.1892            4.84m\n",
      "        90           1.1807            2.42m\n",
      "       100           1.1727            0.00s\n",
      "CPU times: user 24min 10s, sys: 1.28 s, total: 24min 12s\n",
      "Wall time: 24min 11s\n"
     ]
    }
   ],
   "source": [
    "%%time\n",
    "Gb = GradientBoostingClassifier(n_estimators = 100, verbose=1)\n",
    "Gb = Gb.fit( x_train_tfidf, y_train )"
   ]
  },
  {
   "cell_type": "code",
   "execution_count": 43,
   "metadata": {},
   "outputs": [
    {
     "data": {
      "text/plain": [
       "0.7068429993340551"
      ]
     },
     "execution_count": 43,
     "metadata": {},
     "output_type": "execute_result"
    }
   ],
   "source": [
    "Gb.score( x_train_tfidf, y_train )"
   ]
  },
  {
   "cell_type": "code",
   "execution_count": 44,
   "metadata": {},
   "outputs": [
    {
     "data": {
      "text/plain": [
       "0.7005511712388827"
      ]
     },
     "execution_count": 44,
     "metadata": {},
     "output_type": "execute_result"
    }
   ],
   "source": [
    "Gb.score(x_validation_tfidf, y_validation)"
   ]
  },
  {
   "cell_type": "markdown",
   "metadata": {},
   "source": [
    "## Naive Bayes Model"
   ]
  },
  {
   "cell_type": "code",
   "execution_count": 45,
   "metadata": {},
   "outputs": [
    {
     "name": "stdout",
     "output_type": "stream",
     "text": [
      "CPU times: user 460 ms, sys: 0 ns, total: 460 ms\n",
      "Wall time: 461 ms\n"
     ]
    }
   ],
   "source": [
    "%%time\n",
    "nb = MultinomialNB()\n",
    "nb.fit(x_train_tfidf, y_train)\n"
   ]
  },
  {
   "cell_type": "code",
   "execution_count": 46,
   "metadata": {},
   "outputs": [
    {
     "data": {
      "text/plain": [
       "0.8105782983765516"
      ]
     },
     "execution_count": 46,
     "metadata": {},
     "output_type": "execute_result"
    }
   ],
   "source": [
    "nb.score(x_train_tfidf, y_train)"
   ]
  },
  {
   "cell_type": "code",
   "execution_count": 47,
   "metadata": {},
   "outputs": [
    {
     "data": {
      "text/plain": [
       "0.8018915194788927"
      ]
     },
     "execution_count": 47,
     "metadata": {},
     "output_type": "execute_result"
    }
   ],
   "source": [
    "nb.score(x_validation_tfidf, y_validation)"
   ]
  },
  {
   "cell_type": "markdown",
   "metadata": {},
   "source": [
    "## Testing the data"
   ]
  },
  {
   "cell_type": "code",
   "execution_count": 55,
   "metadata": {},
   "outputs": [],
   "source": [
    "# I am using the test data to test\n",
    "test_data_features = tvec1.transform(x_test)\n",
    "test_data_features = test_data_features.toarray()\n",
    "\n",
    "# Use the random forest to make sentiment label predictions\n",
    "result = lr.predict(test_data_features)\n",
    "\n"
   ]
  },
  {
   "cell_type": "code",
   "execution_count": 56,
   "metadata": {},
   "outputs": [
    {
     "data": {
      "text/plain": [
       "array([1, 1, 1, ..., 0, 1, 1])"
      ]
     },
     "execution_count": 56,
     "metadata": {},
     "output_type": "execute_result"
    }
   ],
   "source": [
    "result"
   ]
  },
  {
   "cell_type": "code",
   "execution_count": 57,
   "metadata": {},
   "outputs": [],
   "source": [
    "df = pd.DataFrame()\n",
    "df[\"Sentences\"] = x_test\n",
    "df[\"Real_y_values\"] = y_test\n",
    "df[\"Predictions\"] = result"
   ]
  },
  {
   "cell_type": "code",
   "execution_count": 59,
   "metadata": {},
   "outputs": [
    {
     "data": {
      "text/html": [
       "<div>\n",
       "<style scoped>\n",
       "    .dataframe tbody tr th:only-of-type {\n",
       "        vertical-align: middle;\n",
       "    }\n",
       "\n",
       "    .dataframe tbody tr th {\n",
       "        vertical-align: top;\n",
       "    }\n",
       "\n",
       "    .dataframe thead th {\n",
       "        text-align: right;\n",
       "    }\n",
       "</style>\n",
       "<table border=\"1\" class=\"dataframe\">\n",
       "  <thead>\n",
       "    <tr style=\"text-align: right;\">\n",
       "      <th></th>\n",
       "      <th>Sentences</th>\n",
       "      <th>Real_y_values</th>\n",
       "      <th>Predictions</th>\n",
       "    </tr>\n",
       "  </thead>\n",
       "  <tbody>\n",
       "    <tr>\n",
       "      <th>1435744</th>\n",
       "      <td>well if you ever need ny tix we sell tix natio...</td>\n",
       "      <td>1</td>\n",
       "      <td>1</td>\n",
       "    </tr>\n",
       "    <tr>\n",
       "      <th>1254910</th>\n",
       "      <td>whoohoo it going down you gotta check out it c...</td>\n",
       "      <td>1</td>\n",
       "      <td>1</td>\n",
       "    </tr>\n",
       "    <tr>\n",
       "      <th>1510247</th>\n",
       "      <td>are you in seattle tomorrow if so let me know ...</td>\n",
       "      <td>1</td>\n",
       "      <td>1</td>\n",
       "    </tr>\n",
       "    <tr>\n",
       "      <th>1395796</th>\n",
       "      <td>jade love the new photo gorgeous xxx</td>\n",
       "      <td>1</td>\n",
       "      <td>1</td>\n",
       "    </tr>\n",
       "    <tr>\n",
       "      <th>969040</th>\n",
       "      <td>had the mother of all hangovers today super ev...</td>\n",
       "      <td>1</td>\n",
       "      <td>1</td>\n",
       "    </tr>\n",
       "    <tr>\n",
       "      <th>824449</th>\n",
       "      <td>shall go and shower now and then go and pick t...</td>\n",
       "      <td>1</td>\n",
       "      <td>1</td>\n",
       "    </tr>\n",
       "    <tr>\n",
       "      <th>1429481</th>\n",
       "      <td>wrong seb but thanks none the less</td>\n",
       "      <td>1</td>\n",
       "      <td>1</td>\n",
       "    </tr>\n",
       "    <tr>\n",
       "      <th>598043</th>\n",
       "      <td>missin my baby</td>\n",
       "      <td>0</td>\n",
       "      <td>0</td>\n",
       "    </tr>\n",
       "    <tr>\n",
       "      <th>465417</th>\n",
       "      <td>oh really that dissapointing</td>\n",
       "      <td>0</td>\n",
       "      <td>0</td>\n",
       "    </tr>\n",
       "    <tr>\n",
       "      <th>1425459</th>\n",
       "      <td>soon soon sure we ll get em</td>\n",
       "      <td>1</td>\n",
       "      <td>1</td>\n",
       "    </tr>\n",
       "    <tr>\n",
       "      <th>664066</th>\n",
       "      <td>damn papa was not included in the sexy follow ...</td>\n",
       "      <td>0</td>\n",
       "      <td>0</td>\n",
       "    </tr>\n",
       "    <tr>\n",
       "      <th>698842</th>\n",
       "      <td>now the visitors are getting here now</td>\n",
       "      <td>0</td>\n",
       "      <td>0</td>\n",
       "    </tr>\n",
       "    <tr>\n",
       "      <th>204941</th>\n",
       "      <td>homework alllll dayy then the ballet then more...</td>\n",
       "      <td>0</td>\n",
       "      <td>0</td>\n",
       "    </tr>\n",
       "    <tr>\n",
       "      <th>1349987</th>\n",
       "      <td>up to my eyeballs in paper shreds yay summer c...</td>\n",
       "      <td>1</td>\n",
       "      <td>0</td>\n",
       "    </tr>\n",
       "    <tr>\n",
       "      <th>1459244</th>\n",
       "      <td>good morning lance how are you hope you are ha...</td>\n",
       "      <td>1</td>\n",
       "      <td>1</td>\n",
       "    </tr>\n",
       "    <tr>\n",
       "      <th>1573286</th>\n",
       "      <td>night az sweet dreams talk to you later love ya</td>\n",
       "      <td>1</td>\n",
       "      <td>1</td>\n",
       "    </tr>\n",
       "    <tr>\n",
       "      <th>1288541</th>\n",
       "      <td>it tuesday do not know why that particularly s...</td>\n",
       "      <td>1</td>\n",
       "      <td>1</td>\n",
       "    </tr>\n",
       "    <tr>\n",
       "      <th>1249495</th>\n",
       "      <td>good roll this morning need to be more aggress...</td>\n",
       "      <td>1</td>\n",
       "      <td>1</td>\n",
       "    </tr>\n",
       "    <tr>\n",
       "      <th>1302298</th>\n",
       "      <td>one more day to go and then starts the french ...</td>\n",
       "      <td>1</td>\n",
       "      <td>1</td>\n",
       "    </tr>\n",
       "    <tr>\n",
       "      <th>1408024</th>\n",
       "      <td>totally awesome sir it shall be waiting for yo...</td>\n",
       "      <td>1</td>\n",
       "      <td>1</td>\n",
       "    </tr>\n",
       "    <tr>\n",
       "      <th>716919</th>\n",
       "      <td>cant beileve they beat us</td>\n",
       "      <td>0</td>\n",
       "      <td>0</td>\n",
       "    </tr>\n",
       "    <tr>\n",
       "      <th>1496876</th>\n",
       "      <td>yummm hours of work is gonna be migh ty fine o...</td>\n",
       "      <td>1</td>\n",
       "      <td>1</td>\n",
       "    </tr>\n",
       "    <tr>\n",
       "      <th>791681</th>\n",
       "      <td>first time did not have time to finish the test</td>\n",
       "      <td>0</td>\n",
       "      <td>0</td>\n",
       "    </tr>\n",
       "    <tr>\n",
       "      <th>1080378</th>\n",
       "      <td>good night latonyanicole happy sleeping much l...</td>\n",
       "      <td>1</td>\n",
       "      <td>1</td>\n",
       "    </tr>\n",
       "    <tr>\n",
       "      <th>384</th>\n",
       "      <td>pepperoni rolls in called valentino they said ...</td>\n",
       "      <td>0</td>\n",
       "      <td>0</td>\n",
       "    </tr>\n",
       "    <tr>\n",
       "      <th>1234386</th>\n",
       "      <td>sneek peek of new moon trailer enjoy</td>\n",
       "      <td>1</td>\n",
       "      <td>1</td>\n",
       "    </tr>\n",
       "    <tr>\n",
       "      <th>1110658</th>\n",
       "      <td>guess its time say gnite twitterland</td>\n",
       "      <td>1</td>\n",
       "      <td>1</td>\n",
       "    </tr>\n",
       "    <tr>\n",
       "      <th>549414</th>\n",
       "      <td>bay area it going to be long summer when are y...</td>\n",
       "      <td>0</td>\n",
       "      <td>0</td>\n",
       "    </tr>\n",
       "    <tr>\n",
       "      <th>65524</th>\n",
       "      <td>erin brought me hoodie feel so much better but...</td>\n",
       "      <td>0</td>\n",
       "      <td>0</td>\n",
       "    </tr>\n",
       "    <tr>\n",
       "      <th>1025863</th>\n",
       "      <td>obvious followfriday</td>\n",
       "      <td>1</td>\n",
       "      <td>1</td>\n",
       "    </tr>\n",
       "    <tr>\n",
       "      <th>...</th>\n",
       "      <td>...</td>\n",
       "      <td>...</td>\n",
       "      <td>...</td>\n",
       "    </tr>\n",
       "    <tr>\n",
       "      <th>1377765</th>\n",
       "      <td>dear jon read all your posts pls do not rt spo...</td>\n",
       "      <td>1</td>\n",
       "      <td>1</td>\n",
       "    </tr>\n",
       "    <tr>\n",
       "      <th>733071</th>\n",
       "      <td>just helped le boif pack up and feeling rather...</td>\n",
       "      <td>0</td>\n",
       "      <td>0</td>\n",
       "    </tr>\n",
       "    <tr>\n",
       "      <th>626589</th>\n",
       "      <td>the kiddlets want to go watch the oldest play ...</td>\n",
       "      <td>0</td>\n",
       "      <td>0</td>\n",
       "    </tr>\n",
       "    <tr>\n",
       "      <th>282237</th>\n",
       "      <td>no slacking for me</td>\n",
       "      <td>0</td>\n",
       "      <td>0</td>\n",
       "    </tr>\n",
       "    <tr>\n",
       "      <th>312722</th>\n",
       "      <td>is off to work im so tired</td>\n",
       "      <td>0</td>\n",
       "      <td>0</td>\n",
       "    </tr>\n",
       "    <tr>\n",
       "      <th>671105</th>\n",
       "      <td>wish my dog had the easy poop</td>\n",
       "      <td>0</td>\n",
       "      <td>0</td>\n",
       "    </tr>\n",
       "    <tr>\n",
       "      <th>622268</th>\n",
       "      <td>wish someone else would make me some</td>\n",
       "      <td>0</td>\n",
       "      <td>0</td>\n",
       "    </tr>\n",
       "    <tr>\n",
       "      <th>1209753</th>\n",
       "      <td>heh it might be good idea to find out best of ...</td>\n",
       "      <td>1</td>\n",
       "      <td>1</td>\n",
       "    </tr>\n",
       "    <tr>\n",
       "      <th>737110</th>\n",
       "      <td>is graduating today</td>\n",
       "      <td>0</td>\n",
       "      <td>1</td>\n",
       "    </tr>\n",
       "    <tr>\n",
       "      <th>1458200</th>\n",
       "      <td>aww do not quit you can do it</td>\n",
       "      <td>1</td>\n",
       "      <td>1</td>\n",
       "    </tr>\n",
       "    <tr>\n",
       "      <th>592321</th>\n",
       "      <td>ohgodd mcdonnalds boy but he does work at mcdo...</td>\n",
       "      <td>0</td>\n",
       "      <td>0</td>\n",
       "    </tr>\n",
       "    <tr>\n",
       "      <th>554775</th>\n",
       "      <td>feel so sad for back leg and ur eyes sorry hop...</td>\n",
       "      <td>0</td>\n",
       "      <td>0</td>\n",
       "    </tr>\n",
       "    <tr>\n",
       "      <th>1283690</th>\n",
       "      <td>nut hmm thinking taking back sunday new album ...</td>\n",
       "      <td>1</td>\n",
       "      <td>1</td>\n",
       "    </tr>\n",
       "    <tr>\n",
       "      <th>1521036</th>\n",
       "      <td>thank you for your msg beautiful how my rating...</td>\n",
       "      <td>1</td>\n",
       "      <td>1</td>\n",
       "    </tr>\n",
       "    <tr>\n",
       "      <th>418140</th>\n",
       "      <td>missin renze hopin you come back one year of p...</td>\n",
       "      <td>0</td>\n",
       "      <td>0</td>\n",
       "    </tr>\n",
       "    <tr>\n",
       "      <th>398173</th>\n",
       "      <td>haha go crazy and punch in higher floor hope i...</td>\n",
       "      <td>0</td>\n",
       "      <td>0</td>\n",
       "    </tr>\n",
       "    <tr>\n",
       "      <th>491117</th>\n",
       "      <td>wow it is so nice out too bad on my way to cla...</td>\n",
       "      <td>0</td>\n",
       "      <td>0</td>\n",
       "    </tr>\n",
       "    <tr>\n",
       "      <th>1319593</th>\n",
       "      <td>am so proud of you for saying no to work today...</td>\n",
       "      <td>1</td>\n",
       "      <td>1</td>\n",
       "    </tr>\n",
       "    <tr>\n",
       "      <th>384508</th>\n",
       "      <td>lol can not stand chance to be in the top or a...</td>\n",
       "      <td>0</td>\n",
       "      <td>1</td>\n",
       "    </tr>\n",
       "    <tr>\n",
       "      <th>1006936</th>\n",
       "      <td>got my tickets to see in bristol bought them a...</td>\n",
       "      <td>1</td>\n",
       "      <td>1</td>\n",
       "    </tr>\n",
       "    <tr>\n",
       "      <th>1125185</th>\n",
       "      <td>amigos please follow my great friend she is ne...</td>\n",
       "      <td>1</td>\n",
       "      <td>1</td>\n",
       "    </tr>\n",
       "    <tr>\n",
       "      <th>1283248</th>\n",
       "      <td>shunsine looooove it</td>\n",
       "      <td>1</td>\n",
       "      <td>1</td>\n",
       "    </tr>\n",
       "    <tr>\n",
       "      <th>830806</th>\n",
       "      <td>heeey chris haha ahh yay wikid hope you re wel...</td>\n",
       "      <td>1</td>\n",
       "      <td>1</td>\n",
       "    </tr>\n",
       "    <tr>\n",
       "      <th>935495</th>\n",
       "      <td>weird have not slept and have tons more energy...</td>\n",
       "      <td>1</td>\n",
       "      <td>1</td>\n",
       "    </tr>\n",
       "    <tr>\n",
       "      <th>82910</th>\n",
       "      <td>well last night was my turn to be up all night...</td>\n",
       "      <td>0</td>\n",
       "      <td>0</td>\n",
       "    </tr>\n",
       "    <tr>\n",
       "      <th>4219</th>\n",
       "      <td>sounds ace want to go back to uni</td>\n",
       "      <td>0</td>\n",
       "      <td>0</td>\n",
       "    </tr>\n",
       "    <tr>\n",
       "      <th>442390</th>\n",
       "      <td>casper cant sign into the ning site was trying...</td>\n",
       "      <td>0</td>\n",
       "      <td>0</td>\n",
       "    </tr>\n",
       "    <tr>\n",
       "      <th>782108</th>\n",
       "      <td>cant watch skins mum is in the loungeroom she ...</td>\n",
       "      <td>0</td>\n",
       "      <td>0</td>\n",
       "    </tr>\n",
       "    <tr>\n",
       "      <th>1051816</th>\n",
       "      <td>got hood bbq to go to later today it for ur ol...</td>\n",
       "      <td>1</td>\n",
       "      <td>1</td>\n",
       "    </tr>\n",
       "    <tr>\n",
       "      <th>1174415</th>\n",
       "      <td>it almost time to cruise</td>\n",
       "      <td>1</td>\n",
       "      <td>1</td>\n",
       "    </tr>\n",
       "  </tbody>\n",
       "</table>\n",
       "<p>15967 rows × 3 columns</p>\n",
       "</div>"
      ],
      "text/plain": [
       "                                                 Sentences  Real_y_values  \\\n",
       "1435744  well if you ever need ny tix we sell tix natio...              1   \n",
       "1254910  whoohoo it going down you gotta check out it c...              1   \n",
       "1510247  are you in seattle tomorrow if so let me know ...              1   \n",
       "1395796               jade love the new photo gorgeous xxx              1   \n",
       "969040   had the mother of all hangovers today super ev...              1   \n",
       "824449   shall go and shower now and then go and pick t...              1   \n",
       "1429481                 wrong seb but thanks none the less              1   \n",
       "598043                                      missin my baby              0   \n",
       "465417                        oh really that dissapointing              0   \n",
       "1425459                        soon soon sure we ll get em              1   \n",
       "664066   damn papa was not included in the sexy follow ...              0   \n",
       "698842               now the visitors are getting here now              0   \n",
       "204941   homework alllll dayy then the ballet then more...              0   \n",
       "1349987  up to my eyeballs in paper shreds yay summer c...              1   \n",
       "1459244  good morning lance how are you hope you are ha...              1   \n",
       "1573286    night az sweet dreams talk to you later love ya              1   \n",
       "1288541  it tuesday do not know why that particularly s...              1   \n",
       "1249495  good roll this morning need to be more aggress...              1   \n",
       "1302298  one more day to go and then starts the french ...              1   \n",
       "1408024  totally awesome sir it shall be waiting for yo...              1   \n",
       "716919                           cant beileve they beat us              0   \n",
       "1496876  yummm hours of work is gonna be migh ty fine o...              1   \n",
       "791681     first time did not have time to finish the test              0   \n",
       "1080378  good night latonyanicole happy sleeping much l...              1   \n",
       "384      pepperoni rolls in called valentino they said ...              0   \n",
       "1234386               sneek peek of new moon trailer enjoy              1   \n",
       "1110658               guess its time say gnite twitterland              1   \n",
       "549414   bay area it going to be long summer when are y...              0   \n",
       "65524    erin brought me hoodie feel so much better but...              0   \n",
       "1025863                               obvious followfriday              1   \n",
       "...                                                    ...            ...   \n",
       "1377765  dear jon read all your posts pls do not rt spo...              1   \n",
       "733071   just helped le boif pack up and feeling rather...              0   \n",
       "626589   the kiddlets want to go watch the oldest play ...              0   \n",
       "282237                                  no slacking for me              0   \n",
       "312722                          is off to work im so tired              0   \n",
       "671105                       wish my dog had the easy poop              0   \n",
       "622268                wish someone else would make me some              0   \n",
       "1209753  heh it might be good idea to find out best of ...              1   \n",
       "737110                                 is graduating today              0   \n",
       "1458200                      aww do not quit you can do it              1   \n",
       "592321   ohgodd mcdonnalds boy but he does work at mcdo...              0   \n",
       "554775   feel so sad for back leg and ur eyes sorry hop...              0   \n",
       "1283690  nut hmm thinking taking back sunday new album ...              1   \n",
       "1521036  thank you for your msg beautiful how my rating...              1   \n",
       "418140   missin renze hopin you come back one year of p...              0   \n",
       "398173   haha go crazy and punch in higher floor hope i...              0   \n",
       "491117   wow it is so nice out too bad on my way to cla...              0   \n",
       "1319593  am so proud of you for saying no to work today...              1   \n",
       "384508   lol can not stand chance to be in the top or a...              0   \n",
       "1006936  got my tickets to see in bristol bought them a...              1   \n",
       "1125185  amigos please follow my great friend she is ne...              1   \n",
       "1283248                               shunsine looooove it              1   \n",
       "830806   heeey chris haha ahh yay wikid hope you re wel...              1   \n",
       "935495   weird have not slept and have tons more energy...              1   \n",
       "82910    well last night was my turn to be up all night...              0   \n",
       "4219                     sounds ace want to go back to uni              0   \n",
       "442390   casper cant sign into the ning site was trying...              0   \n",
       "782108   cant watch skins mum is in the loungeroom she ...              0   \n",
       "1051816  got hood bbq to go to later today it for ur ol...              1   \n",
       "1174415                           it almost time to cruise              1   \n",
       "\n",
       "         Predictions  \n",
       "1435744            1  \n",
       "1254910            1  \n",
       "1510247            1  \n",
       "1395796            1  \n",
       "969040             1  \n",
       "824449             1  \n",
       "1429481            1  \n",
       "598043             0  \n",
       "465417             0  \n",
       "1425459            1  \n",
       "664066             0  \n",
       "698842             0  \n",
       "204941             0  \n",
       "1349987            0  \n",
       "1459244            1  \n",
       "1573286            1  \n",
       "1288541            1  \n",
       "1249495            1  \n",
       "1302298            1  \n",
       "1408024            1  \n",
       "716919             0  \n",
       "1496876            1  \n",
       "791681             0  \n",
       "1080378            1  \n",
       "384                0  \n",
       "1234386            1  \n",
       "1110658            1  \n",
       "549414             0  \n",
       "65524              0  \n",
       "1025863            1  \n",
       "...              ...  \n",
       "1377765            1  \n",
       "733071             0  \n",
       "626589             0  \n",
       "282237             0  \n",
       "312722             0  \n",
       "671105             0  \n",
       "622268             0  \n",
       "1209753            1  \n",
       "737110             1  \n",
       "1458200            1  \n",
       "592321             0  \n",
       "554775             0  \n",
       "1283690            1  \n",
       "1521036            1  \n",
       "418140             0  \n",
       "398173             0  \n",
       "491117             0  \n",
       "1319593            1  \n",
       "384508             1  \n",
       "1006936            1  \n",
       "1125185            1  \n",
       "1283248            1  \n",
       "830806             1  \n",
       "935495             1  \n",
       "82910              0  \n",
       "4219               0  \n",
       "442390             0  \n",
       "782108             0  \n",
       "1051816            1  \n",
       "1174415            1  \n",
       "\n",
       "[15967 rows x 3 columns]"
      ]
     },
     "execution_count": 59,
     "metadata": {},
     "output_type": "execute_result"
    }
   ],
   "source": [
    "df"
   ]
  },
  {
   "cell_type": "code",
   "execution_count": null,
   "metadata": {},
   "outputs": [],
   "source": []
  }
 ],
 "metadata": {
  "accelerator": "GPU",
  "colab": {
   "collapsed_sections": [],
   "default_view": {},
   "name": "DonnaAlex_capstone-3.ipynb",
   "provenance": [],
   "version": "0.3.2",
   "views": {}
  },
  "kernelspec": {
   "display_name": "Python 3",
   "language": "python",
   "name": "python3"
  },
  "language_info": {
   "codemirror_mode": {
    "name": "ipython",
    "version": 3
   },
   "file_extension": ".py",
   "mimetype": "text/x-python",
   "name": "python",
   "nbconvert_exporter": "python",
   "pygments_lexer": "ipython3",
   "version": "3.6.4"
  }
 },
 "nbformat": 4,
 "nbformat_minor": 1
}
