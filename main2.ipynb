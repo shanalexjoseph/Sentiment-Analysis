{
 "cells": [
  {
   "cell_type": "code",
   "execution_count": 1,
   "metadata": {},
   "outputs": [
    {
     "name": "stdout",
     "output_type": "stream",
     "text": [
      "Requirement already satisfied: sklearn in /home/ubuntu/anaconda3/envs/tensorflow_p36/lib/python3.6/site-packages\n",
      "Requirement already satisfied: scikit-learn in /home/ubuntu/anaconda3/envs/tensorflow_p36/lib/python3.6/site-packages (from sklearn)\n",
      "\u001b[33mYou are using pip version 9.0.1, however version 9.0.3 is available.\n",
      "You should consider upgrading via the 'pip install --upgrade pip' command.\u001b[0m\n"
     ]
    }
   ],
   "source": [
    "!pip install sklearn"
   ]
  },
  {
   "cell_type": "code",
   "execution_count": 2,
   "metadata": {
    "colab": {
     "autoexec": {
      "startup": false,
      "wait_interval": 0
     }
    },
    "colab_type": "code",
    "id": "15HyuFD4aTgO"
   },
   "outputs": [
    {
     "name": "stderr",
     "output_type": "stream",
     "text": [
      "/home/ubuntu/anaconda3/envs/tensorflow_p36/lib/python3.6/site-packages/matplotlib/__init__.py:962: UserWarning: Duplicate key in file \"/home/ubuntu/.config/matplotlib/matplotlibrc\", line #2\n",
      "  (fname, cnt))\n",
      "/home/ubuntu/anaconda3/envs/tensorflow_p36/lib/python3.6/site-packages/matplotlib/__init__.py:962: UserWarning: Duplicate key in file \"/home/ubuntu/.config/matplotlib/matplotlibrc\", line #3\n",
      "  (fname, cnt))\n",
      "/home/ubuntu/anaconda3/envs/tensorflow_p36/lib/python3.6/site-packages/h5py/__init__.py:36: FutureWarning: Conversion of the second argument of issubdtype from `float` to `np.floating` is deprecated. In future, it will be treated as `np.float64 == np.dtype(float).type`.\n",
      "  from ._conv import register_converters as _register_converters\n",
      "Using TensorFlow backend.\n",
      "/home/ubuntu/anaconda3/envs/tensorflow_p36/lib/python3.6/site-packages/sklearn/cross_validation.py:41: DeprecationWarning: This module was deprecated in version 0.18 in favor of the model_selection module into which all the refactored classes and functions are moved. Also note that the interface of the new CV iterators are different from that of this module. This module will be removed in 0.20.\n",
      "  \"This module will be removed in 0.20.\", DeprecationWarning)\n"
     ]
    }
   ],
   "source": [
    "import pandas as pd\n",
    "import numpy as np\n",
    "import matplotlib.pyplot as plt\n",
    "\n",
    "import numpy as np\n",
    "\n",
    "\n",
    "from keras.models import Sequential, Model\n",
    "from keras.layers import Dense, Dropout, Flatten, Input, MaxPooling1D, Convolution1D, Embedding\n",
    "from keras.layers.merge import Concatenate\n",
    "from keras.datasets import imdb\n",
    "from keras.preprocessing import sequence\n",
    "from keras.preprocessing.text import Tokenizer\n",
    "from keras.models import Sequential\n",
    "from keras.preprocessing import sequence\n",
    "from keras.models import load_model\n",
    "\n",
    "\n",
    "from sklearn.cross_validation import train_test_split\n",
    "from sklearn.metrics import accuracy_score\n",
    "from sklearn.metrics import classification_report, confusion_matrix\n",
    "from sklearn.linear_model import LinearRegression\n",
    "from sklearn.feature_extraction.text import CountVectorizer\n",
    "from sklearn.pipeline import Pipeline\n",
    "\n",
    "\n",
    "from keras.preprocessing.text import Tokenizer\n",
    "from keras.preprocessing.sequence import pad_sequences\n",
    "from keras.utils import to_categorical\n",
    "from keras.layers import Dense, Input, GlobalMaxPooling1D\n",
    "from keras.layers import Conv1D, MaxPooling1D, Embedding\n",
    "from keras.models import Model\n",
    "from sklearn.preprocessing import Normalizer\n",
    "from sklearn.feature_extraction.text import TfidfVectorizer\n",
    "import pickle\n",
    "from sklearn.linear_model import LogisticRegression\n",
    "\n",
    "\n",
    "from keras.models import Sequential, Model\n",
    "from keras.layers import Dense, Dropout, Flatten, Input, MaxPooling1D, Convolution1D, Embedding\n",
    "from keras.layers.merge import Concatenate\n",
    "from keras.preprocessing import sequence\n",
    "\n",
    "import time\n",
    "import html\n",
    "from nltk.tokenize import WordPunctTokenizer\n",
    "import re\n",
    "\n",
    "np.random.seed(0)\n",
    "\n",
    "%matplotlib inline"
   ]
  },
  {
   "cell_type": "markdown",
   "metadata": {},
   "source": [
    "from keras.preprocessing import sequence\n",
    "Keras has provide very nice text processing functions.\n",
    "\n",
    "Then we can format our text samples and labels into tensors that can be fed into a neural network. To do this, we will rely on Keras utilities keras.preprocessing.text.Tokenizer and keras.preprocessing.sequence.pad_sequences."
   ]
  },
  {
   "cell_type": "code",
   "execution_count": 3,
   "metadata": {
    "colab": {
     "autoexec": {
      "startup": false,
      "wait_interval": 0
     }
    },
    "colab_type": "code",
    "id": "CE1EMXPgaTgW"
   },
   "outputs": [],
   "source": [
    "# Getting all clean data\n",
    "clean_data = pd.read_csv(\"clean_sentences.csv\")"
   ]
  },
  {
   "cell_type": "code",
   "execution_count": 4,
   "metadata": {
    "colab": {
     "autoexec": {
      "startup": false,
      "wait_interval": 0
     }
    },
    "colab_type": "code",
    "id": "Y6uAzWoBaTgc"
   },
   "outputs": [],
   "source": [
    "# Converting it to a dataframe\n",
    "df = pd.DataFrame(clean_data)"
   ]
  },
  {
   "cell_type": "code",
   "execution_count": 5,
   "metadata": {
    "colab": {
     "autoexec": {
      "startup": false,
      "wait_interval": 0
     },
     "base_uri": "https://localhost:8080/",
     "height": 34,
     "output_extras": [
      {
       "item_id": 1
      }
     ]
    },
    "colab_type": "code",
    "executionInfo": {
     "elapsed": 241,
     "status": "ok",
     "timestamp": 1521866520799,
     "user": {
      "displayName": "donna alex",
      "photoUrl": "//lh6.googleusercontent.com/-H58kuq1ExZk/AAAAAAAAAAI/AAAAAAAAAzs/5lbOM0-qvzI/s50-c-k-no/photo.jpg",
      "userId": "115248177046208592333"
     },
     "user_tz": 420
    },
    "id": "F8msjw1saTgj",
    "outputId": "0a0eb78a-bfa1-4acb-8c10-4262b87b289a"
   },
   "outputs": [
    {
     "data": {
      "text/plain": [
       "(1600000, 2)"
      ]
     },
     "execution_count": 5,
     "metadata": {},
     "output_type": "execute_result"
    }
   ],
   "source": [
    "# looking into the shape of the data\n",
    "df.shape"
   ]
  },
  {
   "cell_type": "code",
   "execution_count": 6,
   "metadata": {
    "colab": {
     "autoexec": {
      "startup": false,
      "wait_interval": 0
     },
     "base_uri": "https://localhost:8080/",
     "height": 34,
     "output_extras": [
      {
       "item_id": 1
      }
     ]
    },
    "colab_type": "code",
    "executionInfo": {
     "elapsed": 252,
     "status": "ok",
     "timestamp": 1521866521505,
     "user": {
      "displayName": "donna alex",
      "photoUrl": "//lh6.googleusercontent.com/-H58kuq1ExZk/AAAAAAAAAAI/AAAAAAAAAzs/5lbOM0-qvzI/s50-c-k-no/photo.jpg",
      "userId": "115248177046208592333"
     },
     "user_tz": 420
    },
    "id": "8CJS94bDaTgx",
    "outputId": "eab176d8-1521-43e2-a7ea-7ecf26a3ec61"
   },
   "outputs": [
    {
     "data": {
      "text/plain": [
       "Index(['Sentences', 'Label'], dtype='object')"
      ]
     },
     "execution_count": 6,
     "metadata": {},
     "output_type": "execute_result"
    }
   ],
   "source": [
    "# looking into the columns of the dataframe\n",
    "df.columns"
   ]
  },
  {
   "cell_type": "code",
   "execution_count": 7,
   "metadata": {
    "colab": {
     "autoexec": {
      "startup": false,
      "wait_interval": 0
     },
     "base_uri": "https://localhost:8080/",
     "height": 34,
     "output_extras": [
      {
       "item_id": 1
      }
     ]
    },
    "colab_type": "code",
    "executionInfo": {
     "elapsed": 383,
     "status": "ok",
     "timestamp": 1521866522125,
     "user": {
      "displayName": "donna alex",
      "photoUrl": "//lh6.googleusercontent.com/-H58kuq1ExZk/AAAAAAAAAAI/AAAAAAAAAzs/5lbOM0-qvzI/s50-c-k-no/photo.jpg",
      "userId": "115248177046208592333"
     },
     "user_tz": 420
    },
    "id": "BZ5QPeDkaTg7",
    "outputId": "592823a7-1147-48ff-e285-29818aa5d4e3"
   },
   "outputs": [
    {
     "data": {
      "text/plain": [
       "3373"
      ]
     },
     "execution_count": 7,
     "metadata": {},
     "output_type": "execute_result"
    }
   ],
   "source": [
    "# checking if there is any null values\n",
    "np.sum(df.isnull().any(axis=1))"
   ]
  },
  {
   "cell_type": "code",
   "execution_count": 8,
   "metadata": {
    "colab": {
     "autoexec": {
      "startup": false,
      "wait_interval": 0
     },
     "base_uri": "https://localhost:8080/",
     "height": 204,
     "output_extras": [
      {
       "item_id": 1
      }
     ]
    },
    "colab_type": "code",
    "executionInfo": {
     "elapsed": 387,
     "status": "ok",
     "timestamp": 1521866522768,
     "user": {
      "displayName": "donna alex",
      "photoUrl": "//lh6.googleusercontent.com/-H58kuq1ExZk/AAAAAAAAAAI/AAAAAAAAAzs/5lbOM0-qvzI/s50-c-k-no/photo.jpg",
      "userId": "115248177046208592333"
     },
     "user_tz": 420
    },
    "id": "IT6T8NJpaThD",
    "outputId": "d4d70588-20c3-4ff7-ee44-02e78195bd57"
   },
   "outputs": [
    {
     "data": {
      "text/html": [
       "<div>\n",
       "<style scoped>\n",
       "    .dataframe tbody tr th:only-of-type {\n",
       "        vertical-align: middle;\n",
       "    }\n",
       "\n",
       "    .dataframe tbody tr th {\n",
       "        vertical-align: top;\n",
       "    }\n",
       "\n",
       "    .dataframe thead th {\n",
       "        text-align: right;\n",
       "    }\n",
       "</style>\n",
       "<table border=\"1\" class=\"dataframe\">\n",
       "  <thead>\n",
       "    <tr style=\"text-align: right;\">\n",
       "      <th></th>\n",
       "      <th>Sentences</th>\n",
       "      <th>Label</th>\n",
       "    </tr>\n",
       "  </thead>\n",
       "  <tbody>\n",
       "    <tr>\n",
       "      <th>208</th>\n",
       "      <td>NaN</td>\n",
       "      <td>0</td>\n",
       "    </tr>\n",
       "    <tr>\n",
       "      <th>249</th>\n",
       "      <td>NaN</td>\n",
       "      <td>0</td>\n",
       "    </tr>\n",
       "    <tr>\n",
       "      <th>398</th>\n",
       "      <td>NaN</td>\n",
       "      <td>0</td>\n",
       "    </tr>\n",
       "    <tr>\n",
       "      <th>430</th>\n",
       "      <td>NaN</td>\n",
       "      <td>0</td>\n",
       "    </tr>\n",
       "    <tr>\n",
       "      <th>1011</th>\n",
       "      <td>NaN</td>\n",
       "      <td>0</td>\n",
       "    </tr>\n",
       "  </tbody>\n",
       "</table>\n",
       "</div>"
      ],
      "text/plain": [
       "     Sentences  Label\n",
       "208        NaN      0\n",
       "249        NaN      0\n",
       "398        NaN      0\n",
       "430        NaN      0\n",
       "1011       NaN      0"
      ]
     },
     "execution_count": 8,
     "metadata": {},
     "output_type": "execute_result"
    }
   ],
   "source": [
    "# looking into the rows that have null values\n",
    "df[df.isnull().any(axis=1)].head()"
   ]
  },
  {
   "cell_type": "code",
   "execution_count": 9,
   "metadata": {
    "colab": {
     "autoexec": {
      "startup": false,
      "wait_interval": 0
     }
    },
    "colab_type": "code",
    "id": "I3aeR4PYaThM"
   },
   "outputs": [],
   "source": [
    "# Dropping the nul values\n",
    "df = df.dropna()"
   ]
  },
  {
   "cell_type": "code",
   "execution_count": 10,
   "metadata": {
    "colab": {
     "autoexec": {
      "startup": false,
      "wait_interval": 0
     },
     "base_uri": "https://localhost:8080/",
     "height": 34,
     "output_extras": [
      {
       "item_id": 1
      }
     ]
    },
    "colab_type": "code",
    "executionInfo": {
     "elapsed": 277,
     "status": "ok",
     "timestamp": 1521866524055,
     "user": {
      "displayName": "donna alex",
      "photoUrl": "//lh6.googleusercontent.com/-H58kuq1ExZk/AAAAAAAAAAI/AAAAAAAAAzs/5lbOM0-qvzI/s50-c-k-no/photo.jpg",
      "userId": "115248177046208592333"
     },
     "user_tz": 420
    },
    "id": "z2IXlh6raThS",
    "outputId": "c512fee0-099f-408a-da9d-f1b9880f5997"
   },
   "outputs": [
    {
     "data": {
      "text/plain": [
       "(1596627, 2)"
      ]
     },
     "execution_count": 10,
     "metadata": {},
     "output_type": "execute_result"
    }
   ],
   "source": [
    "# Looking into the shape of the dataframe after dropping the values\n",
    "df.shape"
   ]
  },
  {
   "cell_type": "code",
   "execution_count": 11,
   "metadata": {
    "colab": {
     "autoexec": {
      "startup": false,
      "wait_interval": 0
     },
     "base_uri": "https://localhost:8080/",
     "height": 34,
     "output_extras": [
      {
       "item_id": 1
      }
     ]
    },
    "colab_type": "code",
    "executionInfo": {
     "elapsed": 403,
     "status": "ok",
     "timestamp": 1521866524697,
     "user": {
      "displayName": "donna alex",
      "photoUrl": "//lh6.googleusercontent.com/-H58kuq1ExZk/AAAAAAAAAAI/AAAAAAAAAzs/5lbOM0-qvzI/s50-c-k-no/photo.jpg",
      "userId": "115248177046208592333"
     },
     "user_tz": 420
    },
    "id": "Uop9RhMBaThd",
    "outputId": "86e80b72-6963-484d-c11f-d1dd8b7c4b2e"
   },
   "outputs": [
    {
     "data": {
      "text/plain": [
       "0"
      ]
     },
     "execution_count": 11,
     "metadata": {},
     "output_type": "execute_result"
    }
   ],
   "source": [
    "# Now rechecking if there is anymore null values\n",
    "np.sum(df.isnull().any(axis=1))"
   ]
  },
  {
   "cell_type": "code",
   "execution_count": 12,
   "metadata": {
    "colab": {
     "autoexec": {
      "startup": false,
      "wait_interval": 0
     },
     "base_uri": "https://localhost:8080/",
     "height": 68,
     "output_extras": [
      {
       "item_id": 1
      }
     ]
    },
    "colab_type": "code",
    "executionInfo": {
     "elapsed": 268,
     "status": "ok",
     "timestamp": 1521866525212,
     "user": {
      "displayName": "donna alex",
      "photoUrl": "//lh6.googleusercontent.com/-H58kuq1ExZk/AAAAAAAAAAI/AAAAAAAAAzs/5lbOM0-qvzI/s50-c-k-no/photo.jpg",
      "userId": "115248177046208592333"
     },
     "user_tz": 420
    },
    "id": "37dot_gfaTho",
    "outputId": "ea9232e1-8be2-4ea4-f94b-8f7e6aee8de2"
   },
   "outputs": [
    {
     "data": {
      "text/plain": [
       "0    798467\n",
       "1    798160\n",
       "Name: Label, dtype: int64"
      ]
     },
     "execution_count": 12,
     "metadata": {},
     "output_type": "execute_result"
    }
   ],
   "source": [
    "# Checking if we have equal no of positive and negative sentences\n",
    "df[\"Label\"].value_counts()"
   ]
  },
  {
   "cell_type": "code",
   "execution_count": 13,
   "metadata": {
    "colab": {
     "autoexec": {
      "startup": false,
      "wait_interval": 0
     },
     "base_uri": "https://localhost:8080/",
     "height": 204,
     "output_extras": [
      {
       "item_id": 1
      }
     ]
    },
    "colab_type": "code",
    "executionInfo": {
     "elapsed": 266,
     "status": "ok",
     "timestamp": 1521866525743,
     "user": {
      "displayName": "donna alex",
      "photoUrl": "//lh6.googleusercontent.com/-H58kuq1ExZk/AAAAAAAAAAI/AAAAAAAAAzs/5lbOM0-qvzI/s50-c-k-no/photo.jpg",
      "userId": "115248177046208592333"
     },
     "user_tz": 420
    },
    "id": "sWfnFEoOaThz",
    "outputId": "2b468d2f-1dca-4a48-ed9a-592b2c599f38"
   },
   "outputs": [
    {
     "data": {
      "text/html": [
       "<div>\n",
       "<style scoped>\n",
       "    .dataframe tbody tr th:only-of-type {\n",
       "        vertical-align: middle;\n",
       "    }\n",
       "\n",
       "    .dataframe tbody tr th {\n",
       "        vertical-align: top;\n",
       "    }\n",
       "\n",
       "    .dataframe thead th {\n",
       "        text-align: right;\n",
       "    }\n",
       "</style>\n",
       "<table border=\"1\" class=\"dataframe\">\n",
       "  <thead>\n",
       "    <tr style=\"text-align: right;\">\n",
       "      <th></th>\n",
       "      <th>Sentences</th>\n",
       "      <th>Label</th>\n",
       "    </tr>\n",
       "  </thead>\n",
       "  <tbody>\n",
       "    <tr>\n",
       "      <th>0</th>\n",
       "      <td>awww that bummer you shoulda got david carr of...</td>\n",
       "      <td>0</td>\n",
       "    </tr>\n",
       "    <tr>\n",
       "      <th>1</th>\n",
       "      <td>is upset that he can not update his facebook b...</td>\n",
       "      <td>0</td>\n",
       "    </tr>\n",
       "    <tr>\n",
       "      <th>2</th>\n",
       "      <td>dived many times for the ball managed to save ...</td>\n",
       "      <td>0</td>\n",
       "    </tr>\n",
       "    <tr>\n",
       "      <th>3</th>\n",
       "      <td>my whole body feels itchy and like its on fire</td>\n",
       "      <td>0</td>\n",
       "    </tr>\n",
       "    <tr>\n",
       "      <th>4</th>\n",
       "      <td>no it not behaving at all mad why am here beca...</td>\n",
       "      <td>0</td>\n",
       "    </tr>\n",
       "  </tbody>\n",
       "</table>\n",
       "</div>"
      ],
      "text/plain": [
       "                                           Sentences  Label\n",
       "0  awww that bummer you shoulda got david carr of...      0\n",
       "1  is upset that he can not update his facebook b...      0\n",
       "2  dived many times for the ball managed to save ...      0\n",
       "3     my whole body feels itchy and like its on fire      0\n",
       "4  no it not behaving at all mad why am here beca...      0"
      ]
     },
     "execution_count": 13,
     "metadata": {},
     "output_type": "execute_result"
    }
   ],
   "source": [
    "df.head()"
   ]
  },
  {
   "cell_type": "code",
   "execution_count": 14,
   "metadata": {},
   "outputs": [
    {
     "data": {
      "text/plain": [
       "'is upset that he can not update his facebook by texting it and might cry as result school today also blah'"
      ]
     },
     "execution_count": 14,
     "metadata": {},
     "output_type": "execute_result"
    }
   ],
   "source": [
    "df[\"Sentences\"][1]"
   ]
  },
  {
   "cell_type": "code",
   "execution_count": 15,
   "metadata": {
    "colab": {
     "autoexec": {
      "startup": false,
      "wait_interval": 0
     },
     "base_uri": "https://localhost:8080/",
     "height": 68,
     "output_extras": [
      {
       "item_id": 1
      }
     ]
    },
    "colab_type": "code",
    "executionInfo": {
     "elapsed": 258,
     "status": "ok",
     "timestamp": 1521866526300,
     "user": {
      "displayName": "donna alex",
      "photoUrl": "//lh6.googleusercontent.com/-H58kuq1ExZk/AAAAAAAAAAI/AAAAAAAAAzs/5lbOM0-qvzI/s50-c-k-no/photo.jpg",
      "userId": "115248177046208592333"
     },
     "user_tz": 420
    },
    "id": "FpDCsNViaTh9",
    "outputId": "7e578d6e-7e6a-4acd-9d91-988837ded443"
   },
   "outputs": [
    {
     "data": {
      "text/plain": [
       "0    798467\n",
       "1    798160\n",
       "Name: Label, dtype: int64"
      ]
     },
     "execution_count": 15,
     "metadata": {},
     "output_type": "execute_result"
    }
   ],
   "source": [
    "df[\"Label\"].value_counts()"
   ]
  },
  {
   "cell_type": "code",
   "execution_count": 17,
   "metadata": {
    "colab": {
     "autoexec": {
      "startup": false,
      "wait_interval": 0
     },
     "base_uri": "https://localhost:8080/",
     "height": 68,
     "output_extras": [
      {
       "item_id": 1
      }
     ]
    },
    "colab_type": "code",
    "executionInfo": {
     "elapsed": 271,
     "status": "ok",
     "timestamp": 1521866528902,
     "user": {
      "displayName": "donna alex",
      "photoUrl": "//lh6.googleusercontent.com/-H58kuq1ExZk/AAAAAAAAAAI/AAAAAAAAAzs/5lbOM0-qvzI/s50-c-k-no/photo.jpg",
      "userId": "115248177046208592333"
     },
     "user_tz": 420
    },
    "id": "2LpCZMiUaTiW",
    "outputId": "45b49fa9-dd70-461f-819f-ab90b0b81d22"
   },
   "outputs": [
    {
     "name": "stdout",
     "output_type": "stream",
     "text": [
      "Training data: \n",
      "(1596627,)\n",
      "(1596627,)\n"
     ]
    }
   ],
   "source": [
    "print(\"Training data: \")\n",
    "print(X.shape)\n",
    "print(y.shape)"
   ]
  },
  {
   "cell_type": "code",
   "execution_count": 18,
   "metadata": {
    "colab": {
     "autoexec": {
      "startup": false,
      "wait_interval": 0
     },
     "base_uri": "https://localhost:8080/",
     "height": 51,
     "output_extras": [
      {
       "item_id": 1
      }
     ]
    },
    "colab_type": "code",
    "executionInfo": {
     "elapsed": 342,
     "status": "ok",
     "timestamp": 1521866529472,
     "user": {
      "displayName": "donna alex",
      "photoUrl": "//lh6.googleusercontent.com/-H58kuq1ExZk/AAAAAAAAAAI/AAAAAAAAAzs/5lbOM0-qvzI/s50-c-k-no/photo.jpg",
      "userId": "115248177046208592333"
     },
     "user_tz": 420
    },
    "id": "PylbAcp1aTih",
    "outputId": "b91255a5-dad7-491f-95c8-4e6c09ead763"
   },
   "outputs": [
    {
     "name": "stdout",
     "output_type": "stream",
     "text": [
      "no. of classes :\n",
      "[0 1]\n"
     ]
    }
   ],
   "source": [
    "print(\"no. of classes :\")\n",
    "print(np.unique(y))"
   ]
  },
  {
   "cell_type": "code",
   "execution_count": 19,
   "metadata": {
    "colab": {
     "autoexec": {
      "startup": false,
      "wait_interval": 0
     },
     "base_uri": "https://localhost:8080/",
     "height": 51,
     "output_extras": [
      {
       "item_id": 2
      }
     ]
    },
    "colab_type": "code",
    "executionInfo": {
     "elapsed": 11256,
     "status": "ok",
     "timestamp": 1521866540970,
     "user": {
      "displayName": "donna alex",
      "photoUrl": "//lh6.googleusercontent.com/-H58kuq1ExZk/AAAAAAAAAAI/AAAAAAAAAzs/5lbOM0-qvzI/s50-c-k-no/photo.jpg",
      "userId": "115248177046208592333"
     },
     "user_tz": 420
    },
    "id": "MUnfeeZUaTiq",
    "outputId": "aead7466-d8ef-445c-aa4f-bd3e24921648"
   },
   "outputs": [
    {
     "name": "stdout",
     "output_type": "stream",
     "text": [
      "Number of words: \n",
      "1519745\n"
     ]
    }
   ],
   "source": [
    "# Summarize number of words\n",
    "print(\"Number of words: \")\n",
    "print(len(np.unique(np.hstack(X))))"
   ]
  },
  {
   "cell_type": "code",
   "execution_count": 20,
   "metadata": {
    "colab": {
     "autoexec": {
      "startup": false,
      "wait_interval": 0
     },
     "base_uri": "https://localhost:8080/",
     "height": 299,
     "output_extras": [
      {
       "item_id": 2
      },
      {
       "item_id": 3
      }
     ]
    },
    "colab_type": "code",
    "executionInfo": {
     "elapsed": 1061,
     "status": "ok",
     "timestamp": 1521866542078,
     "user": {
      "displayName": "donna alex",
      "photoUrl": "//lh6.googleusercontent.com/-H58kuq1ExZk/AAAAAAAAAAI/AAAAAAAAAzs/5lbOM0-qvzI/s50-c-k-no/photo.jpg",
      "userId": "115248177046208592333"
     },
     "user_tz": 420
    },
    "id": "NgIdslQNaTiz",
    "outputId": "635d0735-9024-4ec7-ebe1-5c7c5f3ce4de"
   },
   "outputs": [
    {
     "name": "stdout",
     "output_type": "stream",
     "text": [
      "Sentence length: \n",
      "Mean 60.23 words (32.842545)\n"
     ]
    },
    {
     "data": {
      "image/png": "[encoded data removed]",
      "text/plain": [
       "<matplotlib.figure.Figure at 0x7f5d96829438>"
      ]
     },
     "metadata": {},
     "output_type": "display_data"
    }
   ],
   "source": [
    "# Summarize sentence length\n",
    "print(\"Sentence length: \")\n",
    "result = [len(x) for x in X]\n",
    "print(\"Mean %.2f words (%f)\" % (np.mean(result), np.std(result)))\n",
    "# plot review length\n",
    "plt.boxplot(result)\n",
    "plt.show()"
   ]
  },
  {
   "cell_type": "code",
   "execution_count": 21,
   "metadata": {},
   "outputs": [],
   "source": [
    "# Just dropping null values in case if we have any\n",
    "df = df.dropna()"
   ]
  },
  {
   "cell_type": "code",
   "execution_count": 22,
   "metadata": {},
   "outputs": [],
   "source": [
    "# Assigning features and target valyes to X and y\n",
    "x = df[\"Sentences\"]\n",
    "y = df[\"Label\"]"
   ]
  },
  {
   "cell_type": "code",
   "execution_count": 23,
   "metadata": {},
   "outputs": [],
   "source": [
    "x_train, x_validation_and_test, y_train, y_validation_and_test = train_test_split(x, y, test_size=.02, random_state=42)\n",
    "x_validation, x_test, y_validation, y_test = train_test_split(x_validation_and_test, y_validation_and_test, test_size=.5, random_state=42)"
   ]
  },
  {
   "cell_type": "code",
   "execution_count": 90,
   "metadata": {},
   "outputs": [
    {
     "name": "stdout",
     "output_type": "stream",
     "text": [
      "Train set has total 1564694 entries with 50.01% negative, 49.99% positive\n",
      "Validation set has total 15966 entries with 50.30% negative, 49.70% positive\n",
      "Test set has total 15967 entries with 49.92% negative, 50.08% positive\n"
     ]
    }
   ],
   "source": [
    "print(\"Train set has total {0} entries with {1:.2f}% negative, {2:.2f}% positive\".format(len(x_train),\n",
    "                                                                             (len(x_train[y_train == 0]) / (len(x_train)*1.))*100,\n",
    "                                                                            (len(x_train[y_train == 1]) / (len(x_train)*1.))*100))\n",
    "print(\"Validation set has total {0} entries with {1:.2f}% negative, {2:.2f}% positive\".format(len(x_validation),\n",
    "                                                                             (len(x_validation[y_validation == 0]) / (len(x_validation)*1.))*100,\n",
    "                                                                            (len(x_validation[y_validation == 1]) / (len(x_validation)*1.))*100))\n",
    "print(\"Test set has total {0} entries with {1:.2f}% negative, {2:.2f}% positive\".format(len(x_test),\n",
    "                                                                             (len(x_test[y_test == 0]) / (len(x_test)*1.))*100,\n",
    "                                                                            (len(x_test[y_test == 1]) / (len(x_test)*1.))*100))"
   ]
  },
  {
   "cell_type": "code",
   "execution_count": null,
   "metadata": {},
   "outputs": [],
   "source": [
    "# Checking the shapes after the data split"
   ]
  },
  {
   "cell_type": "code",
   "execution_count": 24,
   "metadata": {},
   "outputs": [
    {
     "data": {
      "text/plain": [
       "(1564694,)"
      ]
     },
     "execution_count": 24,
     "metadata": {},
     "output_type": "execute_result"
    }
   ],
   "source": [
    "x_train.shape"
   ]
  },
  {
   "cell_type": "code",
   "execution_count": 25,
   "metadata": {},
   "outputs": [
    {
     "data": {
      "text/plain": [
       "31933"
      ]
     },
     "execution_count": 25,
     "metadata": {},
     "output_type": "execute_result"
    }
   ],
   "source": [
    "X.shape[0] - x_train.shape[0]"
   ]
  },
  {
   "cell_type": "code",
   "execution_count": 26,
   "metadata": {},
   "outputs": [
    {
     "data": {
      "text/plain": [
       "(31933,)"
      ]
     },
     "execution_count": 26,
     "metadata": {},
     "output_type": "execute_result"
    }
   ],
   "source": [
    "x_validation_and_test.shape"
   ]
  },
  {
   "cell_type": "code",
   "execution_count": 27,
   "metadata": {},
   "outputs": [
    {
     "data": {
      "text/plain": [
       "(15966,)"
      ]
     },
     "execution_count": 27,
     "metadata": {},
     "output_type": "execute_result"
    }
   ],
   "source": [
    "x_validation.shape"
   ]
  },
  {
   "cell_type": "code",
   "execution_count": 28,
   "metadata": {},
   "outputs": [
    {
     "data": {
      "text/plain": [
       "(15967,)"
      ]
     },
     "execution_count": 28,
     "metadata": {},
     "output_type": "execute_result"
    }
   ],
   "source": [
    "x_test.shape"
   ]
  },
  {
   "cell_type": "markdown",
   "metadata": {},
   "source": [
    "## max_features=100000,ngram_range=(1, 3)"
   ]
  },
  {
   "cell_type": "code",
   "execution_count": 63,
   "metadata": {},
   "outputs": [
    {
     "name": "stdout",
     "output_type": "stream",
     "text": [
      "clf.score for x_train_tfidf :  0.8419857173351467\n",
      "clf.score for x_validation_tfidf :  0.8207440811724915\n"
     ]
    }
   ],
   "source": [
    "tvec1 = TfidfVectorizer(max_features=100000,ngram_range=(1, 3))\n",
    "tvec1.fit(x_train)\n",
    "x_train_tfidf = tvec1.transform(x_train)\n",
    "x_validation_tfidf = tvec1.transform(x_validation).toarray()\n",
    "\n",
    "clf = LogisticRegression()\n",
    "clf.fit(x_train_tfidf, y_train)\n",
    "\n",
    "print(\"clf.score for x_train_tfidf : \", clf.score(x_train_tfidf, y_train))\n",
    "print(\"clf.score for x_validation_tfidf : \", clf.score(x_validation_tfidf, y_validation))"
   ]
  },
  {
   "cell_type": "markdown",
   "metadata": {},
   "source": [
    "## max_features=100000,ngram_range=(1, 2)"
   ]
  },
  {
   "cell_type": "code",
   "execution_count": 66,
   "metadata": {},
   "outputs": [
    {
     "name": "stdout",
     "output_type": "stream",
     "text": [
      "clf1.score for x_train_tfidf :  0.840970183307407\n",
      "clf1.score for x_validation_tfidf :  0.8174871602154579\n"
     ]
    }
   ],
   "source": [
    "tvec2 = TfidfVectorizer(max_features=100000,ngram_range=(1, 2))\n",
    "tvec2.fit(x_train)\n",
    "x_train_tfidf = tvec2.transform(x_train)\n",
    "x_validation_tfidf = tvec2.transform(x_validation).toarray()\n",
    "\n",
    "clf1 = LogisticRegression()\n",
    "clf1.fit(x_train_tfidf, y_train)\n",
    "\n",
    "print(\"clf1.score for x_train_tfidf : \", clf1.score(x_train_tfidf, y_train))\n",
    "print(\"clf1.score for x_validation_tfidf : \", clf1.score(x_validation_tfidf, y_validation))"
   ]
  },
  {
   "cell_type": "markdown",
   "metadata": {},
   "source": [
    "## max_features=100000,ngram_range=(1, 4)"
   ]
  },
  {
   "cell_type": "code",
   "execution_count": 69,
   "metadata": {},
   "outputs": [
    {
     "name": "stdout",
     "output_type": "stream",
     "text": [
      "clf2.score for x_train_tfidf :  0.8416348500090114\n",
      "clf2.score for x_validation_tfidf :  0.818489289740699\n"
     ]
    }
   ],
   "source": [
    "tvec3 = TfidfVectorizer(max_features=100000,ngram_range=(1, 4))\n",
    "tvec3.fit(x_train)\n",
    "x_train_tfidf = tvec3.transform(x_train)\n",
    "x_validation_tfidf = tvec3.transform(x_validation).toarray()\n",
    "\n",
    "clf2 = LogisticRegression()\n",
    "clf2.fit(x_train_tfidf, y_train)\n",
    "\n",
    "print(\"clf2.score for x_train_tfidf : \", clf2.score(x_train_tfidf, y_train))\n",
    "print(\"clf2.score for x_validation_tfidf : \", clf2.score(x_validation_tfidf, y_validation))"
   ]
  },
  {
   "cell_type": "markdown",
   "metadata": {},
   "source": [
    "## Reducing max_features 10 times and checking n_grams"
   ]
  },
  {
   "cell_type": "markdown",
   "metadata": {},
   "source": [
    "## max_features=10000,ngram_range=(1, 2)"
   ]
  },
  {
   "cell_type": "code",
   "execution_count": 75,
   "metadata": {},
   "outputs": [
    {
     "name": "stdout",
     "output_type": "stream",
     "text": [
      "clf2.score for x_train_tfidf :  0.8114008234197869\n",
      "clf2.score for x_validation_tfidf :  0.8016409870975824\n"
     ]
    }
   ],
   "source": [
    "tvec4 = TfidfVectorizer(max_features=10000,ngram_range=(1, 2))\n",
    "tvec4.fit(x_train)\n",
    "x_train_tfidf = tvec4.transform(x_train)\n",
    "x_validation_tfidf = tvec4.transform(x_validation).toarray()\n",
    "\n",
    "clf4 = LogisticRegression()\n",
    "clf4.fit(x_train_tfidf, y_train)\n",
    "\n",
    "print(\"clf2.score for x_train_tfidf : \", clf4.score(x_train_tfidf, y_train))\n",
    "print(\"clf2.score for x_validation_tfidf : \", clf4.score(x_validation_tfidf, y_validation))"
   ]
  },
  {
   "cell_type": "markdown",
   "metadata": {},
   "source": [
    "## max_features=10000,ngram_range=(1, 3)"
   ]
  },
  {
   "cell_type": "code",
   "execution_count": 77,
   "metadata": {},
   "outputs": [
    {
     "name": "stdout",
     "output_type": "stream",
     "text": [
      "clf2.score for x_train_tfidf :  0.8106121708142295\n",
      "clf2.score for x_validation_tfidf :  0.8012651885256169\n"
     ]
    }
   ],
   "source": [
    "tvec5 = TfidfVectorizer(max_features=10000,ngram_range=(1, 3))\n",
    "tvec5.fit(x_train)\n",
    "x_train_tfidf = tvec5.transform(x_train)\n",
    "x_validation_tfidf = tvec5.transform(x_validation).toarray()\n",
    "\n",
    "clf5 = LogisticRegression()\n",
    "clf5.fit(x_train_tfidf, y_train)\n",
    "\n",
    "print(\"clf2.score for x_train_tfidf : \", clf5.score(x_train_tfidf, y_train))\n",
    "print(\"clf2.score for x_validation_tfidf : \", clf5.score(x_validation_tfidf, y_validation))"
   ]
  },
  {
   "cell_type": "markdown",
   "metadata": {},
   "source": [
    "## max_features=10000,ngram_range=(1, 4)"
   ]
  },
  {
   "cell_type": "code",
   "execution_count": 79,
   "metadata": {},
   "outputs": [
    {
     "name": "stdout",
     "output_type": "stream",
     "text": [
      "clf2.score for x_train_tfidf :  0.8106121708142295\n",
      "clf2.score for x_validation_tfidf :  0.8012651885256169\n"
     ]
    }
   ],
   "source": [
    "tvec6 = TfidfVectorizer(max_features=10000,ngram_range=(1, 3))\n",
    "tvec6.fit(x_train)\n",
    "x_train_tfidf = tvec6.transform(x_train)\n",
    "x_validation_tfidf = tvec6.transform(x_validation).toarray()\n",
    "\n",
    "clf6 = LogisticRegression()\n",
    "clf6.fit(x_train_tfidf, y_train)\n",
    "\n",
    "print(\"clf2.score for x_train_tfidf : \", clf6.score(x_train_tfidf, y_train))\n",
    "print(\"clf2.score for x_validation_tfidf : \", clf6.score(x_validation_tfidf, y_validation))"
   ]
  },
  {
   "cell_type": "code",
   "execution_count": null,
   "metadata": {},
   "outputs": [],
   "source": []
  },
  {
   "cell_type": "code",
   "execution_count": null,
   "metadata": {},
   "outputs": [],
   "source": []
  }
 ],
 "metadata": {
  "accelerator": "GPU",
  "colab": {
   "collapsed_sections": [],
   "default_view": {},
   "name": "DonnaAlex_capstone-3.ipynb",
   "provenance": [],
   "version": "0.3.2",
   "views": {}
  },
  "kernelspec": {
   "display_name": "Python 3",
   "language": "python",
   "name": "python3"
  },
  "language_info": {
   "codemirror_mode": {
    "name": "ipython",
    "version": 3
   },
   "file_extension": ".py",
   "mimetype": "text/x-python",
   "name": "python",
   "nbconvert_exporter": "python",
   "pygments_lexer": "ipython3",
   "version": "3.6.4"
  }
 },
 "nbformat": 4,
 "nbformat_minor": 1
}
